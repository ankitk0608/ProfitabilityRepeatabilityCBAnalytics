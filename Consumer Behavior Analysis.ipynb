{
 "cells": [
  {
   "cell_type": "code",
   "execution_count": 1,
   "id": "28e43609",
   "metadata": {},
   "outputs": [],
   "source": [
    "import pandas as pd\n",
    "import numpy as np\n",
    "from matplotlib import pyplot as plt\n",
    "from collections import Counter"
   ]
  },
  {
   "cell_type": "markdown",
   "id": "6439fb34",
   "metadata": {},
   "source": [
    "**Importing the data**"
   ]
  },
  {
   "cell_type": "code",
   "execution_count": 2,
   "id": "5cc3fe22",
   "metadata": {},
   "outputs": [],
   "source": [
    "mainData = pd.read_csv(\"C:\\\\Users\\\\ankit\\\\Desktop\\\\Python Project\\\\Sales.csv\")"
   ]
  },
  {
   "cell_type": "markdown",
   "id": "2192f5aa",
   "metadata": {},
   "source": [
    "**Summarised information of data**"
   ]
  },
  {
   "cell_type": "code",
   "execution_count": 3,
   "id": "1b9200dc",
   "metadata": {},
   "outputs": [
    {
     "name": "stdout",
     "output_type": "stream",
     "text": [
      "<class 'pandas.core.frame.DataFrame'>\n",
      "RangeIndex: 2823 entries, 0 to 2822\n",
      "Data columns (total 25 columns):\n",
      " #   Column            Non-Null Count  Dtype  \n",
      "---  ------            --------------  -----  \n",
      " 0   ORDERNUMBER       2823 non-null   int64  \n",
      " 1   QUANTITYORDERED   2823 non-null   int64  \n",
      " 2   PRICEEACH         2823 non-null   float64\n",
      " 3   ORDERLINENUMBER   2823 non-null   int64  \n",
      " 4   SALES             2823 non-null   float64\n",
      " 5   ORDERDATE         2823 non-null   object \n",
      " 6   STATUS            2823 non-null   object \n",
      " 7   QTR_ID            2823 non-null   int64  \n",
      " 8   MONTH_ID          2823 non-null   int64  \n",
      " 9   YEAR_ID           2823 non-null   int64  \n",
      " 10  PRODUCTLINE       2823 non-null   object \n",
      " 11  MSRP              2823 non-null   int64  \n",
      " 12  PRODUCTCODE       2823 non-null   object \n",
      " 13  CUSTOMERNAME      2823 non-null   object \n",
      " 14  PHONE             2823 non-null   object \n",
      " 15  ADDRESSLINE1      2823 non-null   object \n",
      " 16  ADDRESSLINE2      302 non-null    object \n",
      " 17  CITY              2823 non-null   object \n",
      " 18  STATE             1337 non-null   object \n",
      " 19  POSTALCODE        2747 non-null   object \n",
      " 20  COUNTRY           2823 non-null   object \n",
      " 21  TERRITORY         1749 non-null   object \n",
      " 22  CONTACTLASTNAME   2823 non-null   object \n",
      " 23  CONTACTFIRSTNAME  2823 non-null   object \n",
      " 24  DEALSIZE          2823 non-null   object \n",
      "dtypes: float64(2), int64(7), object(16)\n",
      "memory usage: 551.5+ KB\n"
     ]
    }
   ],
   "source": [
    "mainData.info()"
   ]
  },
  {
   "cell_type": "markdown",
   "id": "85844109",
   "metadata": {},
   "source": [
    "**We are going to analyse data over Consumer Behaviour - (Profitability VS Repeatability data) so we need only that is :\n",
    "Quarter, Month, Year, Customername, Country, Sales, DealSize**"
   ]
  },
  {
   "cell_type": "markdown",
   "id": "19269cc5",
   "metadata": {},
   "source": [
    "**Data Cleaning**"
   ]
  },
  {
   "cell_type": "code",
   "execution_count": 4,
   "id": "d3a73e8b",
   "metadata": {},
   "outputs": [],
   "source": [
    "Sales = mainData[['QTR_ID', 'MONTH_ID', 'YEAR_ID', 'CUSTOMERNAME', 'COUNTRY', 'SALES', 'DEALSIZE']]"
   ]
  },
  {
   "cell_type": "code",
   "execution_count": 5,
   "id": "708206fe",
   "metadata": {},
   "outputs": [
    {
     "data": {
      "text/html": [
       "<div>\n",
       "<style scoped>\n",
       "    .dataframe tbody tr th:only-of-type {\n",
       "        vertical-align: middle;\n",
       "    }\n",
       "\n",
       "    .dataframe tbody tr th {\n",
       "        vertical-align: top;\n",
       "    }\n",
       "\n",
       "    .dataframe thead th {\n",
       "        text-align: right;\n",
       "    }\n",
       "</style>\n",
       "<table border=\"1\" class=\"dataframe\">\n",
       "  <thead>\n",
       "    <tr style=\"text-align: right;\">\n",
       "      <th></th>\n",
       "      <th>QTR_ID</th>\n",
       "      <th>MONTH_ID</th>\n",
       "      <th>YEAR_ID</th>\n",
       "      <th>CUSTOMERNAME</th>\n",
       "      <th>COUNTRY</th>\n",
       "      <th>SALES</th>\n",
       "      <th>DEALSIZE</th>\n",
       "    </tr>\n",
       "  </thead>\n",
       "  <tbody>\n",
       "    <tr>\n",
       "      <th>0</th>\n",
       "      <td>1</td>\n",
       "      <td>2</td>\n",
       "      <td>2003</td>\n",
       "      <td>Land of Toys Inc.</td>\n",
       "      <td>USA</td>\n",
       "      <td>2871.00</td>\n",
       "      <td>Small</td>\n",
       "    </tr>\n",
       "    <tr>\n",
       "      <th>1</th>\n",
       "      <td>2</td>\n",
       "      <td>5</td>\n",
       "      <td>2003</td>\n",
       "      <td>Reims Collectables</td>\n",
       "      <td>France</td>\n",
       "      <td>2765.90</td>\n",
       "      <td>Small</td>\n",
       "    </tr>\n",
       "    <tr>\n",
       "      <th>2</th>\n",
       "      <td>3</td>\n",
       "      <td>7</td>\n",
       "      <td>2003</td>\n",
       "      <td>Lyon Souveniers</td>\n",
       "      <td>France</td>\n",
       "      <td>3884.34</td>\n",
       "      <td>Medium</td>\n",
       "    </tr>\n",
       "    <tr>\n",
       "      <th>3</th>\n",
       "      <td>3</td>\n",
       "      <td>8</td>\n",
       "      <td>2003</td>\n",
       "      <td>Toys4GrownUps.com</td>\n",
       "      <td>USA</td>\n",
       "      <td>3746.70</td>\n",
       "      <td>Medium</td>\n",
       "    </tr>\n",
       "    <tr>\n",
       "      <th>4</th>\n",
       "      <td>4</td>\n",
       "      <td>10</td>\n",
       "      <td>2003</td>\n",
       "      <td>Corporate Gift Ideas Co.</td>\n",
       "      <td>USA</td>\n",
       "      <td>5205.27</td>\n",
       "      <td>Medium</td>\n",
       "    </tr>\n",
       "  </tbody>\n",
       "</table>\n",
       "</div>"
      ],
      "text/plain": [
       "   QTR_ID  MONTH_ID  YEAR_ID              CUSTOMERNAME COUNTRY    SALES  \\\n",
       "0       1         2     2003         Land of Toys Inc.     USA  2871.00   \n",
       "1       2         5     2003        Reims Collectables  France  2765.90   \n",
       "2       3         7     2003           Lyon Souveniers  France  3884.34   \n",
       "3       3         8     2003         Toys4GrownUps.com     USA  3746.70   \n",
       "4       4        10     2003  Corporate Gift Ideas Co.     USA  5205.27   \n",
       "\n",
       "  DEALSIZE  \n",
       "0    Small  \n",
       "1    Small  \n",
       "2   Medium  \n",
       "3   Medium  \n",
       "4   Medium  "
      ]
     },
     "execution_count": 5,
     "metadata": {},
     "output_type": "execute_result"
    }
   ],
   "source": [
    "Sales.head()"
   ]
  },
  {
   "cell_type": "markdown",
   "id": "64d62575",
   "metadata": {},
   "source": [
    "# Functions"
   ]
  },
  {
   "cell_type": "markdown",
   "id": "db5d2d3f",
   "metadata": {},
   "source": [
    "**1. Functions defined to filter data**"
   ]
  },
  {
   "cell_type": "markdown",
   "id": "90d05b7b",
   "metadata": {},
   "source": [
    "a. Sales Data of specific year"
   ]
  },
  {
   "cell_type": "code",
   "execution_count": 6,
   "id": "abea618a",
   "metadata": {},
   "outputs": [],
   "source": [
    "SalesOfYear = lambda yearID : Sales[Sales[\"YEAR_ID\"]==yearID]"
   ]
  },
  {
   "cell_type": "markdown",
   "id": "6f15ce2f",
   "metadata": {},
   "source": [
    "b. Sales Data of specific quarter"
   ]
  },
  {
   "cell_type": "code",
   "execution_count": 7,
   "id": "c30559e3",
   "metadata": {},
   "outputs": [],
   "source": [
    "SalesOfQtr = lambda Qtr, df : df[df[\"QTR_ID\"]==Qtr]"
   ]
  },
  {
   "cell_type": "markdown",
   "id": "b5f4343b",
   "metadata": {},
   "source": [
    "**2. Functions for framework**"
   ]
  },
  {
   "cell_type": "markdown",
   "id": "764dd7c8",
   "metadata": {},
   "source": [
    "a. Profitability Calculation"
   ]
  },
  {
   "cell_type": "code",
   "execution_count": 8,
   "id": "737f51b1",
   "metadata": {},
   "outputs": [],
   "source": [
    "def Profit(dataframe) :\n",
    "    \n",
    "    avgBill = {}\n",
    "    \n",
    "    for item in list(dataframe[\"CUSTOMERNAME\"]) :\n",
    "        avgBill.update({item : dataframe.loc[dataframe['CUSTOMERNAME']==item, 'SALES'].mean()})\n",
    "        \n",
    "    finalprofitdf = pd.DataFrame.from_dict({\"Customer\" : avgBill.keys(), \"Average Deal Size\" : avgBill.values()})\n",
    "    \n",
    "    return finalprofitdf.sort_values(by=\"Average Deal Size\", ascending=False)"
   ]
  },
  {
   "cell_type": "markdown",
   "id": "8e2dfae9",
   "metadata": {},
   "source": [
    "b. Repeatability Calculation"
   ]
  },
  {
   "cell_type": "code",
   "execution_count": 9,
   "id": "1302aa29",
   "metadata": {},
   "outputs": [],
   "source": [
    "def Repeatability(dataframe) :\n",
    "    \n",
    "    Repeat = dataframe[\"CUSTOMERNAME\"].value_counts()\n",
    "    \n",
    "    r = {}\n",
    "    \n",
    "    for customer in list(dataframe[\"CUSTOMERNAME\"].drop_duplicates()) :\n",
    "        r.update({customer : Repeat[customer]})\n",
    "        \n",
    "    finalrepeatdf = pd.DataFrame.from_dict({\"Customer\" : list(r.keys()), \"Repeatability\" : list(r.values())})\n",
    "    \n",
    "    return finalrepeatdf"
   ]
  },
  {
   "cell_type": "markdown",
   "id": "d0316f90",
   "metadata": {},
   "source": [
    "c. Framework - Applying framework on Profitability and Repeatability data to get all the 4 quadrants"
   ]
  },
  {
   "cell_type": "code",
   "execution_count": 10,
   "id": "e0623d85",
   "metadata": {},
   "outputs": [],
   "source": [
    "def CBFramework(MainData, ProfitabilityData, RepeatabilityData, Quadrant, Sort) :\n",
    "    \n",
    "    avgRep=RepeatabilityData[\"Repeatability\"].mean()\n",
    "    Left=RepeatabilityData[RepeatabilityData[\"Repeatability\"]<=avgRep]\n",
    "    Right=RepeatabilityData[RepeatabilityData[\"Repeatability\"]>avgRep]\n",
    "    \n",
    "    avgProf=MainData[\"SALES\"].mean()\n",
    "    Lower=ProfitabilityData[ProfitabilityData[\"Average Deal Size\"]<=avgProf]\n",
    "    Upper=ProfitabilityData[ProfitabilityData[\"Average Deal Size\"]>avgProf]\n",
    "    \n",
    "    Premium=pd.merge(Right, Upper, on =\"Customer\")\n",
    "    PLow_RHigh=pd.merge(Right, Lower, on = \"Customer\")\n",
    "    PHigh_RLow=pd.merge(Left, Upper, on = \"Customer\")\n",
    "    Critical=pd.merge(Left, Lower, on = \"Customer\")\n",
    "    \n",
    "    if Quadrant == 'Premium' : finaldf = Premium\n",
    "    elif Quadrant == 'Profit Low and Repeat High' : finaldf = PLow_RHigh\n",
    "    elif Quadrant == 'Profit High and Repeat Low' : finaldf = PHigh_RLow\n",
    "    elif Quadrant == 'Critical' : finaldf = Critical\n",
    "    else : print(\"Input Correct Quadrnat Name\")\n",
    "    \n",
    "    if Sort == 'Average Deal Size' or Sort == 'Repeatability' : \n",
    "        return finaldf.sort_values(by=Sort)\n",
    "    elif Sort == None : \n",
    "        return finaldf\n",
    "    else : \n",
    "        return print(\"Input Correct Sort\")"
   ]
  },
  {
   "cell_type": "markdown",
   "id": "ca965009",
   "metadata": {},
   "source": [
    "d. Comparison between two framework applied datasets"
   ]
  },
  {
   "cell_type": "code",
   "execution_count": 11,
   "id": "b1659515",
   "metadata": {},
   "outputs": [],
   "source": [
    "def Compare(OldData, NewData, DataCategory) :\n",
    "    \n",
    "    #Data Sequence : 0_Premium, 1_PLRH, 2_PHRL, 3_Critical\n",
    "    # Data Category = (Detail, Loss, Maintained or Productive)\n",
    "    \n",
    "    Data = []\n",
    "    Type = []\n",
    "    Q = [\"Premium\", \"PLowRHigh\", \"PHighRLow\", \"Critical\"]\n",
    "    \n",
    "    for i in range(4) : \n",
    "        for j in range(4) :\n",
    "            Data.append(pd.merge(OldData[i], NewData[j], on=\"Customer\")[\"Customer\"].count())\n",
    "            Type.append(Q[i]+\" to \"+Q[j])\n",
    "            \n",
    "    Detail = pd.DataFrame({\"Type\" : Type, \"Data\" : Data})\n",
    "    \n",
    "    Index = {\"Loss\" : {\"Type Of Losses\" : [\"Loss Of Premium\", \"PLRH To PHRL\", \"PHRL To PLRH\", \"PLRH and PHRL To Critical\"], \"Loss\" : [sum(Detail[\"Data\"][1:4]), Detail[\"Data\"][6], Detail[\"Data\"][9], Detail[\"Data\"][7]+Detail[\"Data\"][11]]},\n",
    "            \"Maintained\" : {\"Maintainance Type\" : [\"No Change\", \"Premium Maintained\"], \"Maintain\" : [Detail[\"Data\"][5]+Detail[\"Data\"][10]+Detail[\"Data\"][15], Detail[\"Data\"][0]]},\n",
    "            \"Productive\" : {\"Productive Type\" : [\"Converted To Premium\", \"Converted To High R\", \"Converted To High P\"], \"Productive\" : [Detail[\"Data\"][4]+Detail[\"Data\"][8]+Detail[\"Data\"][12], Detail[\"Data\"][13], Detail[\"Data\"][14]]}}\n",
    "    \n",
    "    if DataCategory == \"Detail\" : return Detail\n",
    "    elif DataCategory == \"Loss\" or DataCategory == \"Maintained\" or DataCategory == \"Productive\" : return pd.DataFrame(Index.get(DataCategory))\n",
    "    else : return print(\"Wrong Data Category. Fill (Detail, Loss, Maintained or Productive)\")"
   ]
  },
  {
   "cell_type": "markdown",
   "id": "ea6a9d39",
   "metadata": {},
   "source": [
    "e. Country Data of framework applied dataset"
   ]
  },
  {
   "cell_type": "code",
   "execution_count": 12,
   "id": "3f5f3edd",
   "metadata": {},
   "outputs": [],
   "source": [
    "def CountryData(FrameworkedDataList) :\n",
    "    #data sequence = [Premium, Profitable, Critical, Loyal]\n",
    "    \n",
    "    finalList = []\n",
    "    \n",
    "    for q in FrameworkedDataList :\n",
    "        clist = []\n",
    "        for customer in list(q[\"Customer\"]) :\n",
    "            country = list(Sales[Sales[\"CUSTOMERNAME\"]==customer][\"COUNTRY\"].drop_duplicates())[0]\n",
    "            clist.append(country)\n",
    "        finalList.append(Counter(clist))\n",
    "        \n",
    "    return finalList"
   ]
  },
  {
   "cell_type": "markdown",
   "id": "64a64490",
   "metadata": {},
   "source": [
    "# Framework applied on data of 2003"
   ]
  },
  {
   "cell_type": "markdown",
   "id": "b3ad8c25",
   "metadata": {},
   "source": [
    "**Filetering Sales data of 2003**"
   ]
  },
  {
   "cell_type": "code",
   "execution_count": 13,
   "id": "80dba476",
   "metadata": {},
   "outputs": [],
   "source": [
    "Sales2003 = SalesOfYear(2003)"
   ]
  },
  {
   "cell_type": "code",
   "execution_count": 14,
   "id": "fdfdfcdd",
   "metadata": {},
   "outputs": [
    {
     "data": {
      "text/html": [
       "<div>\n",
       "<style scoped>\n",
       "    .dataframe tbody tr th:only-of-type {\n",
       "        vertical-align: middle;\n",
       "    }\n",
       "\n",
       "    .dataframe tbody tr th {\n",
       "        vertical-align: top;\n",
       "    }\n",
       "\n",
       "    .dataframe thead th {\n",
       "        text-align: right;\n",
       "    }\n",
       "</style>\n",
       "<table border=\"1\" class=\"dataframe\">\n",
       "  <thead>\n",
       "    <tr style=\"text-align: right;\">\n",
       "      <th></th>\n",
       "      <th>QTR_ID</th>\n",
       "      <th>MONTH_ID</th>\n",
       "      <th>YEAR_ID</th>\n",
       "      <th>CUSTOMERNAME</th>\n",
       "      <th>COUNTRY</th>\n",
       "      <th>SALES</th>\n",
       "      <th>DEALSIZE</th>\n",
       "    </tr>\n",
       "  </thead>\n",
       "  <tbody>\n",
       "    <tr>\n",
       "      <th>0</th>\n",
       "      <td>1</td>\n",
       "      <td>2</td>\n",
       "      <td>2003</td>\n",
       "      <td>Land of Toys Inc.</td>\n",
       "      <td>USA</td>\n",
       "      <td>2871.00</td>\n",
       "      <td>Small</td>\n",
       "    </tr>\n",
       "    <tr>\n",
       "      <th>1</th>\n",
       "      <td>2</td>\n",
       "      <td>5</td>\n",
       "      <td>2003</td>\n",
       "      <td>Reims Collectables</td>\n",
       "      <td>France</td>\n",
       "      <td>2765.90</td>\n",
       "      <td>Small</td>\n",
       "    </tr>\n",
       "    <tr>\n",
       "      <th>2</th>\n",
       "      <td>3</td>\n",
       "      <td>7</td>\n",
       "      <td>2003</td>\n",
       "      <td>Lyon Souveniers</td>\n",
       "      <td>France</td>\n",
       "      <td>3884.34</td>\n",
       "      <td>Medium</td>\n",
       "    </tr>\n",
       "    <tr>\n",
       "      <th>3</th>\n",
       "      <td>3</td>\n",
       "      <td>8</td>\n",
       "      <td>2003</td>\n",
       "      <td>Toys4GrownUps.com</td>\n",
       "      <td>USA</td>\n",
       "      <td>3746.70</td>\n",
       "      <td>Medium</td>\n",
       "    </tr>\n",
       "    <tr>\n",
       "      <th>4</th>\n",
       "      <td>4</td>\n",
       "      <td>10</td>\n",
       "      <td>2003</td>\n",
       "      <td>Corporate Gift Ideas Co.</td>\n",
       "      <td>USA</td>\n",
       "      <td>5205.27</td>\n",
       "      <td>Medium</td>\n",
       "    </tr>\n",
       "  </tbody>\n",
       "</table>\n",
       "</div>"
      ],
      "text/plain": [
       "   QTR_ID  MONTH_ID  YEAR_ID              CUSTOMERNAME COUNTRY    SALES  \\\n",
       "0       1         2     2003         Land of Toys Inc.     USA  2871.00   \n",
       "1       2         5     2003        Reims Collectables  France  2765.90   \n",
       "2       3         7     2003           Lyon Souveniers  France  3884.34   \n",
       "3       3         8     2003         Toys4GrownUps.com     USA  3746.70   \n",
       "4       4        10     2003  Corporate Gift Ideas Co.     USA  5205.27   \n",
       "\n",
       "  DEALSIZE  \n",
       "0    Small  \n",
       "1    Small  \n",
       "2   Medium  \n",
       "3   Medium  \n",
       "4   Medium  "
      ]
     },
     "execution_count": 14,
     "metadata": {},
     "output_type": "execute_result"
    }
   ],
   "source": [
    "Sales2003.head()"
   ]
  },
  {
   "cell_type": "code",
   "execution_count": 119,
   "id": "b974a4a2",
   "metadata": {},
   "outputs": [
    {
     "data": {
      "text/html": [
       "<div>\n",
       "<style scoped>\n",
       "    .dataframe tbody tr th:only-of-type {\n",
       "        vertical-align: middle;\n",
       "    }\n",
       "\n",
       "    .dataframe tbody tr th {\n",
       "        vertical-align: top;\n",
       "    }\n",
       "\n",
       "    .dataframe thead th {\n",
       "        text-align: right;\n",
       "    }\n",
       "</style>\n",
       "<table border=\"1\" class=\"dataframe\">\n",
       "  <thead>\n",
       "    <tr style=\"text-align: right;\">\n",
       "      <th></th>\n",
       "      <th>QTR_ID</th>\n",
       "      <th>MONTH_ID</th>\n",
       "      <th>YEAR_ID</th>\n",
       "      <th>SALES</th>\n",
       "    </tr>\n",
       "  </thead>\n",
       "  <tbody>\n",
       "    <tr>\n",
       "      <th>count</th>\n",
       "      <td>1000.00000</td>\n",
       "      <td>1000.000000</td>\n",
       "      <td>1000.0</td>\n",
       "      <td>1000.000000</td>\n",
       "    </tr>\n",
       "    <tr>\n",
       "      <th>mean</th>\n",
       "      <td>3.10200</td>\n",
       "      <td>8.243000</td>\n",
       "      <td>2003.0</td>\n",
       "      <td>3516.979540</td>\n",
       "    </tr>\n",
       "    <tr>\n",
       "      <th>std</th>\n",
       "      <td>1.09398</td>\n",
       "      <td>3.280963</td>\n",
       "      <td>0.0</td>\n",
       "      <td>1763.679136</td>\n",
       "    </tr>\n",
       "    <tr>\n",
       "      <th>min</th>\n",
       "      <td>1.00000</td>\n",
       "      <td>1.000000</td>\n",
       "      <td>2003.0</td>\n",
       "      <td>710.200000</td>\n",
       "    </tr>\n",
       "    <tr>\n",
       "      <th>25%</th>\n",
       "      <td>2.00000</td>\n",
       "      <td>6.000000</td>\n",
       "      <td>2003.0</td>\n",
       "      <td>2173.935000</td>\n",
       "    </tr>\n",
       "    <tr>\n",
       "      <th>50%</th>\n",
       "      <td>4.00000</td>\n",
       "      <td>10.000000</td>\n",
       "      <td>2003.0</td>\n",
       "      <td>3210.095000</td>\n",
       "    </tr>\n",
       "    <tr>\n",
       "      <th>75%</th>\n",
       "      <td>4.00000</td>\n",
       "      <td>11.000000</td>\n",
       "      <td>2003.0</td>\n",
       "      <td>4483.447500</td>\n",
       "    </tr>\n",
       "    <tr>\n",
       "      <th>max</th>\n",
       "      <td>4.00000</td>\n",
       "      <td>12.000000</td>\n",
       "      <td>2003.0</td>\n",
       "      <td>11279.200000</td>\n",
       "    </tr>\n",
       "  </tbody>\n",
       "</table>\n",
       "</div>"
      ],
      "text/plain": [
       "           QTR_ID     MONTH_ID  YEAR_ID         SALES\n",
       "count  1000.00000  1000.000000   1000.0   1000.000000\n",
       "mean      3.10200     8.243000   2003.0   3516.979540\n",
       "std       1.09398     3.280963      0.0   1763.679136\n",
       "min       1.00000     1.000000   2003.0    710.200000\n",
       "25%       2.00000     6.000000   2003.0   2173.935000\n",
       "50%       4.00000    10.000000   2003.0   3210.095000\n",
       "75%       4.00000    11.000000   2003.0   4483.447500\n",
       "max       4.00000    12.000000   2003.0  11279.200000"
      ]
     },
     "execution_count": 119,
     "metadata": {},
     "output_type": "execute_result"
    }
   ],
   "source": [
    "Sales2003.describe()"
   ]
  },
  {
   "cell_type": "code",
   "execution_count": 122,
   "id": "ab2bc2fa",
   "metadata": {},
   "outputs": [
    {
     "data": {
      "text/plain": [
       "3516979.54"
      ]
     },
     "execution_count": 122,
     "metadata": {},
     "output_type": "execute_result"
    }
   ],
   "source": [
    "Sales2003[\"SALES\"].sum()"
   ]
  },
  {
   "cell_type": "markdown",
   "id": "89ec8463",
   "metadata": {},
   "source": [
    "**Profitability calculation of Sales data of 2003**"
   ]
  },
  {
   "cell_type": "code",
   "execution_count": 16,
   "id": "1bde6abe",
   "metadata": {},
   "outputs": [],
   "source": [
    "Profitability2003 = Profit(Sales2003)"
   ]
  },
  {
   "cell_type": "code",
   "execution_count": 17,
   "id": "f729e75b",
   "metadata": {},
   "outputs": [
    {
     "data": {
      "text/html": [
       "<div>\n",
       "<style scoped>\n",
       "    .dataframe tbody tr th:only-of-type {\n",
       "        vertical-align: middle;\n",
       "    }\n",
       "\n",
       "    .dataframe tbody tr th {\n",
       "        vertical-align: top;\n",
       "    }\n",
       "\n",
       "    .dataframe thead th {\n",
       "        text-align: right;\n",
       "    }\n",
       "</style>\n",
       "<table border=\"1\" class=\"dataframe\">\n",
       "  <thead>\n",
       "    <tr style=\"text-align: right;\">\n",
       "      <th></th>\n",
       "      <th>Customer</th>\n",
       "      <th>Average Deal Size</th>\n",
       "    </tr>\n",
       "  </thead>\n",
       "  <tbody>\n",
       "    <tr>\n",
       "      <th>41</th>\n",
       "      <td>Super Scale Inc.</td>\n",
       "      <td>5312.345000</td>\n",
       "    </tr>\n",
       "    <tr>\n",
       "      <th>10</th>\n",
       "      <td>Volvo Model Replicas, Co</td>\n",
       "      <td>4874.500000</td>\n",
       "    </tr>\n",
       "    <tr>\n",
       "      <th>48</th>\n",
       "      <td>Motor Mint Distributors Inc.</td>\n",
       "      <td>4566.470000</td>\n",
       "    </tr>\n",
       "    <tr>\n",
       "      <th>13</th>\n",
       "      <td>Classic Legends Inc.</td>\n",
       "      <td>4551.105455</td>\n",
       "    </tr>\n",
       "    <tr>\n",
       "      <th>40</th>\n",
       "      <td>L'ordine Souveniers</td>\n",
       "      <td>4466.974000</td>\n",
       "    </tr>\n",
       "  </tbody>\n",
       "</table>\n",
       "</div>"
      ],
      "text/plain": [
       "                        Customer  Average Deal Size\n",
       "41              Super Scale Inc.        5312.345000\n",
       "10      Volvo Model Replicas, Co        4874.500000\n",
       "48  Motor Mint Distributors Inc.        4566.470000\n",
       "13          Classic Legends Inc.        4551.105455\n",
       "40           L'ordine Souveniers        4466.974000"
      ]
     },
     "execution_count": 17,
     "metadata": {},
     "output_type": "execute_result"
    }
   ],
   "source": [
    "Profitability2003.head()"
   ]
  },
  {
   "cell_type": "code",
   "execution_count": 18,
   "id": "d27e8733",
   "metadata": {},
   "outputs": [
    {
     "data": {
      "text/html": [
       "<div>\n",
       "<style scoped>\n",
       "    .dataframe tbody tr th:only-of-type {\n",
       "        vertical-align: middle;\n",
       "    }\n",
       "\n",
       "    .dataframe tbody tr th {\n",
       "        vertical-align: top;\n",
       "    }\n",
       "\n",
       "    .dataframe thead th {\n",
       "        text-align: right;\n",
       "    }\n",
       "</style>\n",
       "<table border=\"1\" class=\"dataframe\">\n",
       "  <thead>\n",
       "    <tr style=\"text-align: right;\">\n",
       "      <th></th>\n",
       "      <th>Average Deal Size</th>\n",
       "    </tr>\n",
       "  </thead>\n",
       "  <tbody>\n",
       "    <tr>\n",
       "      <th>count</th>\n",
       "      <td>69.000000</td>\n",
       "    </tr>\n",
       "    <tr>\n",
       "      <th>mean</th>\n",
       "      <td>3546.461848</td>\n",
       "    </tr>\n",
       "    <tr>\n",
       "      <th>std</th>\n",
       "      <td>586.030428</td>\n",
       "    </tr>\n",
       "    <tr>\n",
       "      <th>min</th>\n",
       "      <td>1674.230000</td>\n",
       "    </tr>\n",
       "    <tr>\n",
       "      <th>25%</th>\n",
       "      <td>3222.970000</td>\n",
       "    </tr>\n",
       "    <tr>\n",
       "      <th>50%</th>\n",
       "      <td>3537.402353</td>\n",
       "    </tr>\n",
       "    <tr>\n",
       "      <th>75%</th>\n",
       "      <td>3868.295000</td>\n",
       "    </tr>\n",
       "    <tr>\n",
       "      <th>max</th>\n",
       "      <td>5312.345000</td>\n",
       "    </tr>\n",
       "  </tbody>\n",
       "</table>\n",
       "</div>"
      ],
      "text/plain": [
       "       Average Deal Size\n",
       "count          69.000000\n",
       "mean         3546.461848\n",
       "std           586.030428\n",
       "min          1674.230000\n",
       "25%          3222.970000\n",
       "50%          3537.402353\n",
       "75%          3868.295000\n",
       "max          5312.345000"
      ]
     },
     "execution_count": 18,
     "metadata": {},
     "output_type": "execute_result"
    }
   ],
   "source": [
    "Profitability2003.describe()"
   ]
  },
  {
   "cell_type": "markdown",
   "id": "f90c5b93",
   "metadata": {},
   "source": [
    "**Repeatability calculation of Sales data of 2003**"
   ]
  },
  {
   "cell_type": "code",
   "execution_count": 19,
   "id": "4563691e",
   "metadata": {},
   "outputs": [],
   "source": [
    "Repeatability2003 = Repeatability(Sales2003)"
   ]
  },
  {
   "cell_type": "code",
   "execution_count": 20,
   "id": "eb2c012a",
   "metadata": {},
   "outputs": [
    {
     "data": {
      "text/html": [
       "<div>\n",
       "<style scoped>\n",
       "    .dataframe tbody tr th:only-of-type {\n",
       "        vertical-align: middle;\n",
       "    }\n",
       "\n",
       "    .dataframe tbody tr th {\n",
       "        vertical-align: top;\n",
       "    }\n",
       "\n",
       "    .dataframe thead th {\n",
       "        text-align: right;\n",
       "    }\n",
       "</style>\n",
       "<table border=\"1\" class=\"dataframe\">\n",
       "  <thead>\n",
       "    <tr style=\"text-align: right;\">\n",
       "      <th></th>\n",
       "      <th>Customer</th>\n",
       "      <th>Repeatability</th>\n",
       "    </tr>\n",
       "  </thead>\n",
       "  <tbody>\n",
       "    <tr>\n",
       "      <th>0</th>\n",
       "      <td>Land of Toys Inc.</td>\n",
       "      <td>8</td>\n",
       "    </tr>\n",
       "    <tr>\n",
       "      <th>1</th>\n",
       "      <td>Reims Collectables</td>\n",
       "      <td>9</td>\n",
       "    </tr>\n",
       "    <tr>\n",
       "      <th>2</th>\n",
       "      <td>Lyon Souveniers</td>\n",
       "      <td>7</td>\n",
       "    </tr>\n",
       "    <tr>\n",
       "      <th>3</th>\n",
       "      <td>Toys4GrownUps.com</td>\n",
       "      <td>17</td>\n",
       "    </tr>\n",
       "    <tr>\n",
       "      <th>4</th>\n",
       "      <td>Corporate Gift Ideas Co.</td>\n",
       "      <td>28</td>\n",
       "    </tr>\n",
       "  </tbody>\n",
       "</table>\n",
       "</div>"
      ],
      "text/plain": [
       "                   Customer  Repeatability\n",
       "0         Land of Toys Inc.              8\n",
       "1        Reims Collectables              9\n",
       "2           Lyon Souveniers              7\n",
       "3         Toys4GrownUps.com             17\n",
       "4  Corporate Gift Ideas Co.             28"
      ]
     },
     "execution_count": 20,
     "metadata": {},
     "output_type": "execute_result"
    }
   ],
   "source": [
    "Repeatability2003.head()"
   ]
  },
  {
   "cell_type": "code",
   "execution_count": 21,
   "id": "f26dbe96",
   "metadata": {},
   "outputs": [
    {
     "data": {
      "text/html": [
       "<div>\n",
       "<style scoped>\n",
       "    .dataframe tbody tr th:only-of-type {\n",
       "        vertical-align: middle;\n",
       "    }\n",
       "\n",
       "    .dataframe tbody tr th {\n",
       "        vertical-align: top;\n",
       "    }\n",
       "\n",
       "    .dataframe thead th {\n",
       "        text-align: right;\n",
       "    }\n",
       "</style>\n",
       "<table border=\"1\" class=\"dataframe\">\n",
       "  <thead>\n",
       "    <tr style=\"text-align: right;\">\n",
       "      <th></th>\n",
       "      <th>Repeatability</th>\n",
       "    </tr>\n",
       "  </thead>\n",
       "  <tbody>\n",
       "    <tr>\n",
       "      <th>count</th>\n",
       "      <td>69.000000</td>\n",
       "    </tr>\n",
       "    <tr>\n",
       "      <th>mean</th>\n",
       "      <td>14.492754</td>\n",
       "    </tr>\n",
       "    <tr>\n",
       "      <th>std</th>\n",
       "      <td>11.004843</td>\n",
       "    </tr>\n",
       "    <tr>\n",
       "      <th>min</th>\n",
       "      <td>2.000000</td>\n",
       "    </tr>\n",
       "    <tr>\n",
       "      <th>25%</th>\n",
       "      <td>9.000000</td>\n",
       "    </tr>\n",
       "    <tr>\n",
       "      <th>50%</th>\n",
       "      <td>12.000000</td>\n",
       "    </tr>\n",
       "    <tr>\n",
       "      <th>75%</th>\n",
       "      <td>17.000000</td>\n",
       "    </tr>\n",
       "    <tr>\n",
       "      <th>max</th>\n",
       "      <td>60.000000</td>\n",
       "    </tr>\n",
       "  </tbody>\n",
       "</table>\n",
       "</div>"
      ],
      "text/plain": [
       "       Repeatability\n",
       "count      69.000000\n",
       "mean       14.492754\n",
       "std        11.004843\n",
       "min         2.000000\n",
       "25%         9.000000\n",
       "50%        12.000000\n",
       "75%        17.000000\n",
       "max        60.000000"
      ]
     },
     "execution_count": 21,
     "metadata": {},
     "output_type": "execute_result"
    }
   ],
   "source": [
    "Repeatability2003.describe()"
   ]
  },
  {
   "cell_type": "code",
   "execution_count": 123,
   "id": "25ea6648",
   "metadata": {},
   "outputs": [
    {
     "data": {
      "text/plain": [
       "1000"
      ]
     },
     "execution_count": 123,
     "metadata": {},
     "output_type": "execute_result"
    }
   ],
   "source": [
    "Repeatability2003[\"Repeatability\"].sum()"
   ]
  },
  {
   "cell_type": "markdown",
   "id": "98f002c7",
   "metadata": {},
   "source": [
    "**Final Calculated Data - Quadrants Data of 2003**"
   ]
  },
  {
   "cell_type": "markdown",
   "id": "3923f913",
   "metadata": {},
   "source": [
    "a. (Q1) Premium Customers of 2003"
   ]
  },
  {
   "cell_type": "code",
   "execution_count": 22,
   "id": "98acf13a",
   "metadata": {},
   "outputs": [],
   "source": [
    "Premium2003 = CBFramework(Sales2003, Profitability2003, Repeatability2003, 'Premium', 'Average Deal Size')"
   ]
  },
  {
   "cell_type": "code",
   "execution_count": 23,
   "id": "ab97461a",
   "metadata": {},
   "outputs": [
    {
     "data": {
      "text/html": [
       "<div>\n",
       "<style scoped>\n",
       "    .dataframe tbody tr th:only-of-type {\n",
       "        vertical-align: middle;\n",
       "    }\n",
       "\n",
       "    .dataframe tbody tr th {\n",
       "        vertical-align: top;\n",
       "    }\n",
       "\n",
       "    .dataframe thead th {\n",
       "        text-align: right;\n",
       "    }\n",
       "</style>\n",
       "<table border=\"1\" class=\"dataframe\">\n",
       "  <thead>\n",
       "    <tr style=\"text-align: right;\">\n",
       "      <th></th>\n",
       "      <th>Customer</th>\n",
       "      <th>Repeatability</th>\n",
       "      <th>Average Deal Size</th>\n",
       "    </tr>\n",
       "  </thead>\n",
       "  <tbody>\n",
       "    <tr>\n",
       "      <th>5</th>\n",
       "      <td>Australian Collectors, Co.</td>\n",
       "      <td>17</td>\n",
       "      <td>3537.402353</td>\n",
       "    </tr>\n",
       "    <tr>\n",
       "      <th>0</th>\n",
       "      <td>Toys4GrownUps.com</td>\n",
       "      <td>17</td>\n",
       "      <td>3546.388235</td>\n",
       "    </tr>\n",
       "    <tr>\n",
       "      <th>10</th>\n",
       "      <td>Cruz &amp; Sons Co.</td>\n",
       "      <td>22</td>\n",
       "      <td>3549.408182</td>\n",
       "    </tr>\n",
       "    <tr>\n",
       "      <th>7</th>\n",
       "      <td>Stylish Desk Decors, Co.</td>\n",
       "      <td>21</td>\n",
       "      <td>3574.504762</td>\n",
       "    </tr>\n",
       "    <tr>\n",
       "      <th>3</th>\n",
       "      <td>Corrida Auto Replicas, Ltd</td>\n",
       "      <td>17</td>\n",
       "      <td>3592.541765</td>\n",
       "    </tr>\n",
       "  </tbody>\n",
       "</table>\n",
       "</div>"
      ],
      "text/plain": [
       "                      Customer  Repeatability  Average Deal Size\n",
       "5   Australian Collectors, Co.             17        3537.402353\n",
       "0            Toys4GrownUps.com             17        3546.388235\n",
       "10             Cruz & Sons Co.             22        3549.408182\n",
       "7     Stylish Desk Decors, Co.             21        3574.504762\n",
       "3   Corrida Auto Replicas, Ltd             17        3592.541765"
      ]
     },
     "execution_count": 23,
     "metadata": {},
     "output_type": "execute_result"
    }
   ],
   "source": [
    "Premium2003.head()"
   ]
  },
  {
   "cell_type": "code",
   "execution_count": 24,
   "id": "e472dc73",
   "metadata": {},
   "outputs": [
    {
     "data": {
      "text/html": [
       "<div>\n",
       "<style scoped>\n",
       "    .dataframe tbody tr th:only-of-type {\n",
       "        vertical-align: middle;\n",
       "    }\n",
       "\n",
       "    .dataframe tbody tr th {\n",
       "        vertical-align: top;\n",
       "    }\n",
       "\n",
       "    .dataframe thead th {\n",
       "        text-align: right;\n",
       "    }\n",
       "</style>\n",
       "<table border=\"1\" class=\"dataframe\">\n",
       "  <thead>\n",
       "    <tr style=\"text-align: right;\">\n",
       "      <th></th>\n",
       "      <th>Repeatability</th>\n",
       "      <th>Average Deal Size</th>\n",
       "    </tr>\n",
       "  </thead>\n",
       "  <tbody>\n",
       "    <tr>\n",
       "      <th>count</th>\n",
       "      <td>13.000000</td>\n",
       "      <td>13.000000</td>\n",
       "    </tr>\n",
       "    <tr>\n",
       "      <th>mean</th>\n",
       "      <td>22.076923</td>\n",
       "      <td>3754.093949</td>\n",
       "    </tr>\n",
       "    <tr>\n",
       "      <th>std</th>\n",
       "      <td>7.815173</td>\n",
       "      <td>213.107708</td>\n",
       "    </tr>\n",
       "    <tr>\n",
       "      <th>min</th>\n",
       "      <td>15.000000</td>\n",
       "      <td>3537.402353</td>\n",
       "    </tr>\n",
       "    <tr>\n",
       "      <th>25%</th>\n",
       "      <td>17.000000</td>\n",
       "      <td>3574.504762</td>\n",
       "    </tr>\n",
       "    <tr>\n",
       "      <th>50%</th>\n",
       "      <td>20.000000</td>\n",
       "      <td>3689.954667</td>\n",
       "    </tr>\n",
       "    <tr>\n",
       "      <th>75%</th>\n",
       "      <td>25.000000</td>\n",
       "      <td>3924.740667</td>\n",
       "    </tr>\n",
       "    <tr>\n",
       "      <th>max</th>\n",
       "      <td>41.000000</td>\n",
       "      <td>4149.320000</td>\n",
       "    </tr>\n",
       "  </tbody>\n",
       "</table>\n",
       "</div>"
      ],
      "text/plain": [
       "       Repeatability  Average Deal Size\n",
       "count      13.000000          13.000000\n",
       "mean       22.076923        3754.093949\n",
       "std         7.815173         213.107708\n",
       "min        15.000000        3537.402353\n",
       "25%        17.000000        3574.504762\n",
       "50%        20.000000        3689.954667\n",
       "75%        25.000000        3924.740667\n",
       "max        41.000000        4149.320000"
      ]
     },
     "execution_count": 24,
     "metadata": {},
     "output_type": "execute_result"
    }
   ],
   "source": [
    "Premium2003.describe()"
   ]
  },
  {
   "cell_type": "markdown",
   "id": "9531f5b5",
   "metadata": {},
   "source": [
    "b. (Q2) High Profitable Low Repeatable Customers of 2003"
   ]
  },
  {
   "cell_type": "code",
   "execution_count": 25,
   "id": "6408836e",
   "metadata": {},
   "outputs": [],
   "source": [
    "ProfitHighRepeatLow2003 = CBFramework(Sales2003, Profitability2003, Repeatability2003, 'Profit High and Repeat Low', 'Average Deal Size')"
   ]
  },
  {
   "cell_type": "code",
   "execution_count": 26,
   "id": "3152850c",
   "metadata": {},
   "outputs": [
    {
     "data": {
      "text/html": [
       "<div>\n",
       "<style scoped>\n",
       "    .dataframe tbody tr th:only-of-type {\n",
       "        vertical-align: middle;\n",
       "    }\n",
       "\n",
       "    .dataframe tbody tr th {\n",
       "        vertical-align: top;\n",
       "    }\n",
       "\n",
       "    .dataframe thead th {\n",
       "        text-align: right;\n",
       "    }\n",
       "</style>\n",
       "<table border=\"1\" class=\"dataframe\">\n",
       "  <thead>\n",
       "    <tr style=\"text-align: right;\">\n",
       "      <th></th>\n",
       "      <th>Customer</th>\n",
       "      <th>Repeatability</th>\n",
       "      <th>Average Deal Size</th>\n",
       "    </tr>\n",
       "  </thead>\n",
       "  <tbody>\n",
       "    <tr>\n",
       "      <th>17</th>\n",
       "      <td>Souveniers And Things Co.</td>\n",
       "      <td>8</td>\n",
       "      <td>3549.657500</td>\n",
       "    </tr>\n",
       "    <tr>\n",
       "      <th>7</th>\n",
       "      <td>Mini Auto Werke</td>\n",
       "      <td>12</td>\n",
       "      <td>3624.061667</td>\n",
       "    </tr>\n",
       "    <tr>\n",
       "      <th>20</th>\n",
       "      <td>Auto-Moto Classics Inc.</td>\n",
       "      <td>2</td>\n",
       "      <td>3638.675000</td>\n",
       "    </tr>\n",
       "    <tr>\n",
       "      <th>1</th>\n",
       "      <td>Lyon Souveniers</td>\n",
       "      <td>7</td>\n",
       "      <td>3660.697143</td>\n",
       "    </tr>\n",
       "    <tr>\n",
       "      <th>11</th>\n",
       "      <td>Oulu Toy Supplies, Inc.</td>\n",
       "      <td>10</td>\n",
       "      <td>3750.158000</td>\n",
       "    </tr>\n",
       "  </tbody>\n",
       "</table>\n",
       "</div>"
      ],
      "text/plain": [
       "                     Customer  Repeatability  Average Deal Size\n",
       "17  Souveniers And Things Co.              8        3549.657500\n",
       "7             Mini Auto Werke             12        3624.061667\n",
       "20    Auto-Moto Classics Inc.              2        3638.675000\n",
       "1             Lyon Souveniers              7        3660.697143\n",
       "11    Oulu Toy Supplies, Inc.             10        3750.158000"
      ]
     },
     "execution_count": 26,
     "metadata": {},
     "output_type": "execute_result"
    }
   ],
   "source": [
    "ProfitHighRepeatLow2003.head()"
   ]
  },
  {
   "cell_type": "code",
   "execution_count": 27,
   "id": "d3fb4db2",
   "metadata": {},
   "outputs": [
    {
     "data": {
      "text/html": [
       "<div>\n",
       "<style scoped>\n",
       "    .dataframe tbody tr th:only-of-type {\n",
       "        vertical-align: middle;\n",
       "    }\n",
       "\n",
       "    .dataframe tbody tr th {\n",
       "        vertical-align: top;\n",
       "    }\n",
       "\n",
       "    .dataframe thead th {\n",
       "        text-align: right;\n",
       "    }\n",
       "</style>\n",
       "<table border=\"1\" class=\"dataframe\">\n",
       "  <thead>\n",
       "    <tr style=\"text-align: right;\">\n",
       "      <th></th>\n",
       "      <th>Repeatability</th>\n",
       "      <th>Average Deal Size</th>\n",
       "    </tr>\n",
       "  </thead>\n",
       "  <tbody>\n",
       "    <tr>\n",
       "      <th>count</th>\n",
       "      <td>22.000000</td>\n",
       "      <td>22.000000</td>\n",
       "    </tr>\n",
       "    <tr>\n",
       "      <th>mean</th>\n",
       "      <td>7.818182</td>\n",
       "      <td>4094.458571</td>\n",
       "    </tr>\n",
       "    <tr>\n",
       "      <th>std</th>\n",
       "      <td>3.289758</td>\n",
       "      <td>448.120624</td>\n",
       "    </tr>\n",
       "    <tr>\n",
       "      <th>min</th>\n",
       "      <td>2.000000</td>\n",
       "      <td>3549.657500</td>\n",
       "    </tr>\n",
       "    <tr>\n",
       "      <th>25%</th>\n",
       "      <td>6.000000</td>\n",
       "      <td>3779.669318</td>\n",
       "    </tr>\n",
       "    <tr>\n",
       "      <th>50%</th>\n",
       "      <td>8.500000</td>\n",
       "      <td>3974.285865</td>\n",
       "    </tr>\n",
       "    <tr>\n",
       "      <th>75%</th>\n",
       "      <td>10.000000</td>\n",
       "      <td>4397.959306</td>\n",
       "    </tr>\n",
       "    <tr>\n",
       "      <th>max</th>\n",
       "      <td>13.000000</td>\n",
       "      <td>5312.345000</td>\n",
       "    </tr>\n",
       "  </tbody>\n",
       "</table>\n",
       "</div>"
      ],
      "text/plain": [
       "       Repeatability  Average Deal Size\n",
       "count      22.000000          22.000000\n",
       "mean        7.818182        4094.458571\n",
       "std         3.289758         448.120624\n",
       "min         2.000000        3549.657500\n",
       "25%         6.000000        3779.669318\n",
       "50%         8.500000        3974.285865\n",
       "75%        10.000000        4397.959306\n",
       "max        13.000000        5312.345000"
      ]
     },
     "execution_count": 27,
     "metadata": {},
     "output_type": "execute_result"
    }
   ],
   "source": [
    "ProfitHighRepeatLow2003.describe()"
   ]
  },
  {
   "cell_type": "markdown",
   "id": "ba4263f5",
   "metadata": {},
   "source": [
    "c. (Q3) Critical Customers of 2003"
   ]
  },
  {
   "cell_type": "code",
   "execution_count": 28,
   "id": "fa21cc13",
   "metadata": {},
   "outputs": [],
   "source": [
    "Critical2003 = CBFramework(Sales2003, Profitability2003, Repeatability2003, 'Critical', 'Average Deal Size')"
   ]
  },
  {
   "cell_type": "code",
   "execution_count": 29,
   "id": "40aaed41",
   "metadata": {},
   "outputs": [
    {
     "data": {
      "text/html": [
       "<div>\n",
       "<style scoped>\n",
       "    .dataframe tbody tr th:only-of-type {\n",
       "        vertical-align: middle;\n",
       "    }\n",
       "\n",
       "    .dataframe tbody tr th {\n",
       "        vertical-align: top;\n",
       "    }\n",
       "\n",
       "    .dataframe thead th {\n",
       "        text-align: right;\n",
       "    }\n",
       "</style>\n",
       "<table border=\"1\" class=\"dataframe\">\n",
       "  <thead>\n",
       "    <tr style=\"text-align: right;\">\n",
       "      <th></th>\n",
       "      <th>Customer</th>\n",
       "      <th>Repeatability</th>\n",
       "      <th>Average Deal Size</th>\n",
       "    </tr>\n",
       "  </thead>\n",
       "  <tbody>\n",
       "    <tr>\n",
       "      <th>20</th>\n",
       "      <td>Royale Belge</td>\n",
       "      <td>2</td>\n",
       "      <td>1674.230000</td>\n",
       "    </tr>\n",
       "    <tr>\n",
       "      <th>19</th>\n",
       "      <td>Boards &amp; Toys Co.</td>\n",
       "      <td>2</td>\n",
       "      <td>2571.075000</td>\n",
       "    </tr>\n",
       "    <tr>\n",
       "      <th>17</th>\n",
       "      <td>Signal Gift Stores</td>\n",
       "      <td>13</td>\n",
       "      <td>2603.663077</td>\n",
       "    </tr>\n",
       "    <tr>\n",
       "      <th>21</th>\n",
       "      <td>West Coast Collectables Co.</td>\n",
       "      <td>3</td>\n",
       "      <td>2744.853333</td>\n",
       "    </tr>\n",
       "    <tr>\n",
       "      <th>5</th>\n",
       "      <td>Salzburg Collectables</td>\n",
       "      <td>14</td>\n",
       "      <td>2759.224286</td>\n",
       "    </tr>\n",
       "  </tbody>\n",
       "</table>\n",
       "</div>"
      ],
      "text/plain": [
       "                       Customer  Repeatability  Average Deal Size\n",
       "20                 Royale Belge              2        1674.230000\n",
       "19            Boards & Toys Co.              2        2571.075000\n",
       "17           Signal Gift Stores             13        2603.663077\n",
       "21  West Coast Collectables Co.              3        2744.853333\n",
       "5         Salzburg Collectables             14        2759.224286"
      ]
     },
     "execution_count": 29,
     "metadata": {},
     "output_type": "execute_result"
    }
   ],
   "source": [
    "Critical2003.head()"
   ]
  },
  {
   "cell_type": "code",
   "execution_count": 30,
   "id": "3b3157f0",
   "metadata": {},
   "outputs": [
    {
     "data": {
      "text/html": [
       "<div>\n",
       "<style scoped>\n",
       "    .dataframe tbody tr th:only-of-type {\n",
       "        vertical-align: middle;\n",
       "    }\n",
       "\n",
       "    .dataframe tbody tr th {\n",
       "        vertical-align: top;\n",
       "    }\n",
       "\n",
       "    .dataframe thead th {\n",
       "        text-align: right;\n",
       "    }\n",
       "</style>\n",
       "<table border=\"1\" class=\"dataframe\">\n",
       "  <thead>\n",
       "    <tr style=\"text-align: right;\">\n",
       "      <th></th>\n",
       "      <th>Repeatability</th>\n",
       "      <th>Average Deal Size</th>\n",
       "    </tr>\n",
       "  </thead>\n",
       "  <tbody>\n",
       "    <tr>\n",
       "      <th>count</th>\n",
       "      <td>22.000000</td>\n",
       "      <td>22.000000</td>\n",
       "    </tr>\n",
       "    <tr>\n",
       "      <th>mean</th>\n",
       "      <td>9.500000</td>\n",
       "      <td>3094.583763</td>\n",
       "    </tr>\n",
       "    <tr>\n",
       "      <th>std</th>\n",
       "      <td>3.912739</td>\n",
       "      <td>433.102189</td>\n",
       "    </tr>\n",
       "    <tr>\n",
       "      <th>min</th>\n",
       "      <td>2.000000</td>\n",
       "      <td>1674.230000</td>\n",
       "    </tr>\n",
       "    <tr>\n",
       "      <th>25%</th>\n",
       "      <td>8.250000</td>\n",
       "      <td>2861.380806</td>\n",
       "    </tr>\n",
       "    <tr>\n",
       "      <th>50%</th>\n",
       "      <td>11.000000</td>\n",
       "      <td>3223.573750</td>\n",
       "    </tr>\n",
       "    <tr>\n",
       "      <th>75%</th>\n",
       "      <td>12.000000</td>\n",
       "      <td>3385.848542</td>\n",
       "    </tr>\n",
       "    <tr>\n",
       "      <th>max</th>\n",
       "      <td>14.000000</td>\n",
       "      <td>3514.746364</td>\n",
       "    </tr>\n",
       "  </tbody>\n",
       "</table>\n",
       "</div>"
      ],
      "text/plain": [
       "       Repeatability  Average Deal Size\n",
       "count      22.000000          22.000000\n",
       "mean        9.500000        3094.583763\n",
       "std         3.912739         433.102189\n",
       "min         2.000000        1674.230000\n",
       "25%         8.250000        2861.380806\n",
       "50%        11.000000        3223.573750\n",
       "75%        12.000000        3385.848542\n",
       "max        14.000000        3514.746364"
      ]
     },
     "execution_count": 30,
     "metadata": {},
     "output_type": "execute_result"
    }
   ],
   "source": [
    "Critical2003.describe()"
   ]
  },
  {
   "cell_type": "markdown",
   "id": "2910e47a",
   "metadata": {},
   "source": [
    "d. (Q4) Loyal - Low Profitable High Repeatable Customers of 2003"
   ]
  },
  {
   "cell_type": "code",
   "execution_count": 31,
   "id": "01ebe0c3",
   "metadata": {},
   "outputs": [],
   "source": [
    "ProfitLowRepeatHigh2003 = CBFramework(Sales2003, Profitability2003, Repeatability2003, 'Profit Low and Repeat High', 'Average Deal Size')"
   ]
  },
  {
   "cell_type": "code",
   "execution_count": 32,
   "id": "23c73b6b",
   "metadata": {},
   "outputs": [
    {
     "data": {
      "text/html": [
       "<div>\n",
       "<style scoped>\n",
       "    .dataframe tbody tr th:only-of-type {\n",
       "        vertical-align: middle;\n",
       "    }\n",
       "\n",
       "    .dataframe tbody tr th {\n",
       "        vertical-align: top;\n",
       "    }\n",
       "\n",
       "    .dataframe thead th {\n",
       "        text-align: right;\n",
       "    }\n",
       "</style>\n",
       "<table border=\"1\" class=\"dataframe\">\n",
       "  <thead>\n",
       "    <tr style=\"text-align: right;\">\n",
       "      <th></th>\n",
       "      <th>Customer</th>\n",
       "      <th>Repeatability</th>\n",
       "      <th>Average Deal Size</th>\n",
       "    </tr>\n",
       "  </thead>\n",
       "  <tbody>\n",
       "    <tr>\n",
       "      <th>10</th>\n",
       "      <td>Australian Collectables, Ltd</td>\n",
       "      <td>16</td>\n",
       "      <td>2367.409375</td>\n",
       "    </tr>\n",
       "    <tr>\n",
       "      <th>9</th>\n",
       "      <td>Rovelli Gifts</td>\n",
       "      <td>34</td>\n",
       "      <td>2831.147941</td>\n",
       "    </tr>\n",
       "    <tr>\n",
       "      <th>3</th>\n",
       "      <td>Scandinavian Gift Ideas</td>\n",
       "      <td>16</td>\n",
       "      <td>3044.432500</td>\n",
       "    </tr>\n",
       "    <tr>\n",
       "      <th>2</th>\n",
       "      <td>Mini Creations Ltd.</td>\n",
       "      <td>32</td>\n",
       "      <td>3060.307188</td>\n",
       "    </tr>\n",
       "    <tr>\n",
       "      <th>5</th>\n",
       "      <td>Marseille Mini Autos</td>\n",
       "      <td>17</td>\n",
       "      <td>3087.167059</td>\n",
       "    </tr>\n",
       "  </tbody>\n",
       "</table>\n",
       "</div>"
      ],
      "text/plain": [
       "                        Customer  Repeatability  Average Deal Size\n",
       "10  Australian Collectables, Ltd             16        2367.409375\n",
       "9                  Rovelli Gifts             34        2831.147941\n",
       "3        Scandinavian Gift Ideas             16        3044.432500\n",
       "2            Mini Creations Ltd.             32        3060.307188\n",
       "5           Marseille Mini Autos             17        3087.167059"
      ]
     },
     "execution_count": 32,
     "metadata": {},
     "output_type": "execute_result"
    }
   ],
   "source": [
    "ProfitLowRepeatHigh2003.head()"
   ]
  },
  {
   "cell_type": "code",
   "execution_count": 33,
   "id": "da2d9a91",
   "metadata": {},
   "outputs": [
    {
     "data": {
      "text/html": [
       "<div>\n",
       "<style scoped>\n",
       "    .dataframe tbody tr th:only-of-type {\n",
       "        vertical-align: middle;\n",
       "    }\n",
       "\n",
       "    .dataframe tbody tr th {\n",
       "        vertical-align: top;\n",
       "    }\n",
       "\n",
       "    .dataframe thead th {\n",
       "        text-align: right;\n",
       "    }\n",
       "</style>\n",
       "<table border=\"1\" class=\"dataframe\">\n",
       "  <thead>\n",
       "    <tr style=\"text-align: right;\">\n",
       "      <th></th>\n",
       "      <th>Repeatability</th>\n",
       "      <th>Average Deal Size</th>\n",
       "    </tr>\n",
       "  </thead>\n",
       "  <tbody>\n",
       "    <tr>\n",
       "      <th>count</th>\n",
       "      <td>12.000000</td>\n",
       "      <td>12.000000</td>\n",
       "    </tr>\n",
       "    <tr>\n",
       "      <th>mean</th>\n",
       "      <td>27.666667</td>\n",
       "      <td>3145.309568</td>\n",
       "    </tr>\n",
       "    <tr>\n",
       "      <th>std</th>\n",
       "      <td>15.358346</td>\n",
       "      <td>310.688102</td>\n",
       "    </tr>\n",
       "    <tr>\n",
       "      <th>min</th>\n",
       "      <td>15.000000</td>\n",
       "      <td>2367.409375</td>\n",
       "    </tr>\n",
       "    <tr>\n",
       "      <th>25%</th>\n",
       "      <td>16.000000</td>\n",
       "      <td>3056.338516</td>\n",
       "    </tr>\n",
       "    <tr>\n",
       "      <th>50%</th>\n",
       "      <td>22.000000</td>\n",
       "      <td>3201.927000</td>\n",
       "    </tr>\n",
       "    <tr>\n",
       "      <th>75%</th>\n",
       "      <td>32.500000</td>\n",
       "      <td>3332.657773</td>\n",
       "    </tr>\n",
       "    <tr>\n",
       "      <th>max</th>\n",
       "      <td>60.000000</td>\n",
       "      <td>3503.793000</td>\n",
       "    </tr>\n",
       "  </tbody>\n",
       "</table>\n",
       "</div>"
      ],
      "text/plain": [
       "       Repeatability  Average Deal Size\n",
       "count      12.000000          12.000000\n",
       "mean       27.666667        3145.309568\n",
       "std        15.358346         310.688102\n",
       "min        15.000000        2367.409375\n",
       "25%        16.000000        3056.338516\n",
       "50%        22.000000        3201.927000\n",
       "75%        32.500000        3332.657773\n",
       "max        60.000000        3503.793000"
      ]
     },
     "execution_count": 33,
     "metadata": {},
     "output_type": "execute_result"
    }
   ],
   "source": [
    "ProfitLowRepeatHigh2003.describe()"
   ]
  },
  {
   "cell_type": "markdown",
   "id": "ed3b1edf",
   "metadata": {},
   "source": [
    "**Data Visualisation of 2003**"
   ]
  },
  {
   "cell_type": "code",
   "execution_count": 34,
   "id": "a609c2f6",
   "metadata": {},
   "outputs": [],
   "source": [
    "Quadrants2003 = [Premium2003, ProfitHighRepeatLow2003, Critical2003, ProfitLowRepeatHigh2003]\n",
    "\n",
    "Q2003CustomerCount = []\n",
    "for item in Quadrants2003 :\n",
    "    Q2003CustomerCount.append(item[\"Customer\"].count())"
   ]
  },
  {
   "cell_type": "markdown",
   "id": "15d1200b",
   "metadata": {},
   "source": [
    "a. Quadrant share of 2003 (pie chart)"
   ]
  },
  {
   "cell_type": "code",
   "execution_count": 35,
   "id": "be89e9cd",
   "metadata": {},
   "outputs": [
    {
     "data": {
      "image/png": "[encoded data removed]",
      "text/plain": [
       "<Figure size 432x288 with 1 Axes>"
      ]
     },
     "metadata": {},
     "output_type": "display_data"
    }
   ],
   "source": [
    "plt.title(\"Quadrant share of 2003\")\n",
    "plt.pie(np.array(Q2003CustomerCount), labels = [\"Premium\", \"Profitable\", \"Critical\", \"Loyal\"],autopct='%1.1f%%')\n",
    "plt.show()"
   ]
  },
  {
   "cell_type": "markdown",
   "id": "43536283",
   "metadata": {},
   "source": [
    "b. Quadrant count of 2003 (bar graph)"
   ]
  },
  {
   "cell_type": "code",
   "execution_count": 36,
   "id": "cb922427",
   "metadata": {},
   "outputs": [
    {
     "data": {
      "image/png": "[encoded data removed]",
      "text/plain": [
       "<Figure size 432x288 with 1 Axes>"
      ]
     },
     "metadata": {
      "needs_background": "light"
     },
     "output_type": "display_data"
    }
   ],
   "source": [
    "plt.title(\"Quadrant count of 2003\")\n",
    "plt.ylabel(\"Number of Customers\")\n",
    "plt.xlabel(\"Quadrants\")\n",
    "plt.bar([\"Premium\", \"Profitable\", \"Critical\", \"Loyal\"], Q2003CustomerCount)\n",
    "plt.grid(True)\n",
    "plt.show()"
   ]
  },
  {
   "cell_type": "markdown",
   "id": "00fad89a",
   "metadata": {},
   "source": [
    "c. Country data in different quadrants of 2003"
   ]
  },
  {
   "cell_type": "code",
   "execution_count": 37,
   "id": "3a543fb0",
   "metadata": {},
   "outputs": [],
   "source": [
    "cd2003 = CountryData(Quadrants2003)"
   ]
  },
  {
   "cell_type": "code",
   "execution_count": 38,
   "id": "ef055195",
   "metadata": {},
   "outputs": [
    {
     "data": {
      "image/png": "[encoded data removed]",
      "text/plain": [
       "<Figure size 432x288 with 1 Axes>"
      ]
     },
     "metadata": {
      "needs_background": "light"
     },
     "output_type": "display_data"
    },
    {
     "data": {
      "image/png": "[encoded data removed]",
      "text/plain": [
       "<Figure size 288x288 with 1 Axes>"
      ]
     },
     "metadata": {},
     "output_type": "display_data"
    },
    {
     "data": {
      "image/png": "[encoded data removed]",
      "text/plain": [
       "<Figure size 432x288 with 1 Axes>"
      ]
     },
     "metadata": {
      "needs_background": "light"
     },
     "output_type": "display_data"
    },
    {
     "data": {
      "image/png": "[encoded data removed]",
      "text/plain": [
       "<Figure size 288x288 with 1 Axes>"
      ]
     },
     "metadata": {},
     "output_type": "display_data"
    },
    {
     "data": {
      "image/png": "[encoded data removed]",
      "text/plain": [
       "<Figure size 432x288 with 1 Axes>"
      ]
     },
     "metadata": {
      "needs_background": "light"
     },
     "output_type": "display_data"
    },
    {
     "data": {
      "image/png": "[encoded data removed]",
      "text/plain": [
       "<Figure size 288x288 with 1 Axes>"
      ]
     },
     "metadata": {},
     "output_type": "display_data"
    },
    {
     "data": {
      "image/png": "[encoded data removed]",
      "text/plain": [
       "<Figure size 432x288 with 1 Axes>"
      ]
     },
     "metadata": {
      "needs_background": "light"
     },
     "output_type": "display_data"
    },
    {
     "data": {
      "image/png": "[encoded data removed]",
      "text/plain": [
       "<Figure size 288x288 with 1 Axes>"
      ]
     },
     "metadata": {},
     "output_type": "display_data"
    }
   ],
   "source": [
    "name = [\"Premium 2003\", \"Profitable 2003\", \"Critical 2003\", \"Loyal 2003\"]\n",
    "for i in range(4):\n",
    "    plt.subplot(4,1,i+1)\n",
    "    plt.title(name[i])\n",
    "    plt.figure(figsize = (4,4))\n",
    "    plt.pie(np.array(list(cd2003[i].values())), labels = list(cd2003[i].keys()), autopct='%1.1f%%')\n",
    "    plt.show()"
   ]
  },
  {
   "cell_type": "markdown",
   "id": "7e903ab8",
   "metadata": {},
   "source": [
    "# Framework applied on data of 2004"
   ]
  },
  {
   "cell_type": "markdown",
   "id": "0556d204",
   "metadata": {},
   "source": [
    "**Filtering Sales data of 2004**"
   ]
  },
  {
   "cell_type": "code",
   "execution_count": 39,
   "id": "2c78f6e5",
   "metadata": {},
   "outputs": [],
   "source": [
    "Sales2004 = SalesOfYear(2004)"
   ]
  },
  {
   "cell_type": "code",
   "execution_count": 126,
   "id": "b9a75c0c",
   "metadata": {},
   "outputs": [
    {
     "data": {
      "text/html": [
       "<div>\n",
       "<style scoped>\n",
       "    .dataframe tbody tr th:only-of-type {\n",
       "        vertical-align: middle;\n",
       "    }\n",
       "\n",
       "    .dataframe tbody tr th {\n",
       "        vertical-align: top;\n",
       "    }\n",
       "\n",
       "    .dataframe thead th {\n",
       "        text-align: right;\n",
       "    }\n",
       "</style>\n",
       "<table border=\"1\" class=\"dataframe\">\n",
       "  <thead>\n",
       "    <tr style=\"text-align: right;\">\n",
       "      <th></th>\n",
       "      <th>QTR_ID</th>\n",
       "      <th>MONTH_ID</th>\n",
       "      <th>YEAR_ID</th>\n",
       "      <th>CUSTOMERNAME</th>\n",
       "      <th>COUNTRY</th>\n",
       "      <th>SALES</th>\n",
       "      <th>DEALSIZE</th>\n",
       "    </tr>\n",
       "  </thead>\n",
       "  <tbody>\n",
       "    <tr>\n",
       "      <th>9</th>\n",
       "      <td>1</td>\n",
       "      <td>1</td>\n",
       "      <td>2004</td>\n",
       "      <td>Auto Canal Petit</td>\n",
       "      <td>France</td>\n",
       "      <td>4708.44</td>\n",
       "      <td>Medium</td>\n",
       "    </tr>\n",
       "    <tr>\n",
       "      <th>10</th>\n",
       "      <td>1</td>\n",
       "      <td>2</td>\n",
       "      <td>2004</td>\n",
       "      <td>Australian Collectors, Co.</td>\n",
       "      <td>Australia</td>\n",
       "      <td>3965.66</td>\n",
       "      <td>Medium</td>\n",
       "    </tr>\n",
       "    <tr>\n",
       "      <th>11</th>\n",
       "      <td>2</td>\n",
       "      <td>4</td>\n",
       "      <td>2004</td>\n",
       "      <td>Vitachrome Inc.</td>\n",
       "      <td>USA</td>\n",
       "      <td>2333.12</td>\n",
       "      <td>Small</td>\n",
       "    </tr>\n",
       "    <tr>\n",
       "      <th>12</th>\n",
       "      <td>2</td>\n",
       "      <td>5</td>\n",
       "      <td>2004</td>\n",
       "      <td>Tekni Collectables Inc.</td>\n",
       "      <td>USA</td>\n",
       "      <td>3188.64</td>\n",
       "      <td>Medium</td>\n",
       "    </tr>\n",
       "    <tr>\n",
       "      <th>13</th>\n",
       "      <td>2</td>\n",
       "      <td>6</td>\n",
       "      <td>2004</td>\n",
       "      <td>Gift Depot Inc.</td>\n",
       "      <td>USA</td>\n",
       "      <td>3676.76</td>\n",
       "      <td>Medium</td>\n",
       "    </tr>\n",
       "  </tbody>\n",
       "</table>\n",
       "</div>"
      ],
      "text/plain": [
       "    QTR_ID  MONTH_ID  YEAR_ID                CUSTOMERNAME    COUNTRY    SALES  \\\n",
       "9        1         1     2004            Auto Canal Petit     France  4708.44   \n",
       "10       1         2     2004  Australian Collectors, Co.  Australia  3965.66   \n",
       "11       2         4     2004             Vitachrome Inc.        USA  2333.12   \n",
       "12       2         5     2004     Tekni Collectables Inc.        USA  3188.64   \n",
       "13       2         6     2004             Gift Depot Inc.        USA  3676.76   \n",
       "\n",
       "   DEALSIZE  \n",
       "9    Medium  \n",
       "10   Medium  \n",
       "11    Small  \n",
       "12   Medium  \n",
       "13   Medium  "
      ]
     },
     "execution_count": 126,
     "metadata": {},
     "output_type": "execute_result"
    }
   ],
   "source": [
    "Sales2004.head()"
   ]
  },
  {
   "cell_type": "code",
   "execution_count": 124,
   "id": "88ca9025",
   "metadata": {},
   "outputs": [
    {
     "data": {
      "text/plain": [
       "4724162.6"
      ]
     },
     "execution_count": 124,
     "metadata": {},
     "output_type": "execute_result"
    }
   ],
   "source": [
    "Sales2004[\"SALES\"].sum()"
   ]
  },
  {
   "cell_type": "markdown",
   "id": "e1bea824",
   "metadata": {},
   "source": [
    "**Profitability calculation of Sales data of 2004**"
   ]
  },
  {
   "cell_type": "code",
   "execution_count": 41,
   "id": "8650e14e",
   "metadata": {},
   "outputs": [],
   "source": [
    "Profitability2004 = Profit(Sales2004)"
   ]
  },
  {
   "cell_type": "code",
   "execution_count": 42,
   "id": "0453ba15",
   "metadata": {},
   "outputs": [
    {
     "data": {
      "text/html": [
       "<div>\n",
       "<style scoped>\n",
       "    .dataframe tbody tr th:only-of-type {\n",
       "        vertical-align: middle;\n",
       "    }\n",
       "\n",
       "    .dataframe tbody tr th {\n",
       "        vertical-align: top;\n",
       "    }\n",
       "\n",
       "    .dataframe thead th {\n",
       "        text-align: right;\n",
       "    }\n",
       "</style>\n",
       "<table border=\"1\" class=\"dataframe\">\n",
       "  <thead>\n",
       "    <tr style=\"text-align: right;\">\n",
       "      <th></th>\n",
       "      <th>Customer</th>\n",
       "      <th>Average Deal Size</th>\n",
       "    </tr>\n",
       "  </thead>\n",
       "  <tbody>\n",
       "    <tr>\n",
       "      <th>49</th>\n",
       "      <td>CAF Imports</td>\n",
       "      <td>7665.350000</td>\n",
       "    </tr>\n",
       "    <tr>\n",
       "      <th>77</th>\n",
       "      <td>Australian Collectables, Ltd</td>\n",
       "      <td>6167.410000</td>\n",
       "    </tr>\n",
       "    <tr>\n",
       "      <th>50</th>\n",
       "      <td>Suominen Souveniers</td>\n",
       "      <td>5169.705000</td>\n",
       "    </tr>\n",
       "    <tr>\n",
       "      <th>57</th>\n",
       "      <td>Blauer See Auto, Co.</td>\n",
       "      <td>4648.146000</td>\n",
       "    </tr>\n",
       "    <tr>\n",
       "      <th>53</th>\n",
       "      <td>La Corne D'abondance, Co.</td>\n",
       "      <td>4537.405385</td>\n",
       "    </tr>\n",
       "  </tbody>\n",
       "</table>\n",
       "</div>"
      ],
      "text/plain": [
       "                        Customer  Average Deal Size\n",
       "49                   CAF Imports        7665.350000\n",
       "77  Australian Collectables, Ltd        6167.410000\n",
       "50           Suominen Souveniers        5169.705000\n",
       "57          Blauer See Auto, Co.        4648.146000\n",
       "53     La Corne D'abondance, Co.        4537.405385"
      ]
     },
     "execution_count": 42,
     "metadata": {},
     "output_type": "execute_result"
    }
   ],
   "source": [
    "Profitability2004.head()"
   ]
  },
  {
   "cell_type": "code",
   "execution_count": 43,
   "id": "d143e2a8",
   "metadata": {},
   "outputs": [
    {
     "data": {
      "text/html": [
       "<div>\n",
       "<style scoped>\n",
       "    .dataframe tbody tr th:only-of-type {\n",
       "        vertical-align: middle;\n",
       "    }\n",
       "\n",
       "    .dataframe tbody tr th {\n",
       "        vertical-align: top;\n",
       "    }\n",
       "\n",
       "    .dataframe thead th {\n",
       "        text-align: right;\n",
       "    }\n",
       "</style>\n",
       "<table border=\"1\" class=\"dataframe\">\n",
       "  <thead>\n",
       "    <tr style=\"text-align: right;\">\n",
       "      <th></th>\n",
       "      <th>Average Deal Size</th>\n",
       "    </tr>\n",
       "  </thead>\n",
       "  <tbody>\n",
       "    <tr>\n",
       "      <th>count</th>\n",
       "      <td>84.000000</td>\n",
       "    </tr>\n",
       "    <tr>\n",
       "      <th>mean</th>\n",
       "      <td>3570.464972</td>\n",
       "    </tr>\n",
       "    <tr>\n",
       "      <th>std</th>\n",
       "      <td>763.028345</td>\n",
       "    </tr>\n",
       "    <tr>\n",
       "      <th>min</th>\n",
       "      <td>1610.440000</td>\n",
       "    </tr>\n",
       "    <tr>\n",
       "      <th>25%</th>\n",
       "      <td>3116.272222</td>\n",
       "    </tr>\n",
       "    <tr>\n",
       "      <th>50%</th>\n",
       "      <td>3496.055671</td>\n",
       "    </tr>\n",
       "    <tr>\n",
       "      <th>75%</th>\n",
       "      <td>3883.480027</td>\n",
       "    </tr>\n",
       "    <tr>\n",
       "      <th>max</th>\n",
       "      <td>7665.350000</td>\n",
       "    </tr>\n",
       "  </tbody>\n",
       "</table>\n",
       "</div>"
      ],
      "text/plain": [
       "       Average Deal Size\n",
       "count          84.000000\n",
       "mean         3570.464972\n",
       "std           763.028345\n",
       "min          1610.440000\n",
       "25%          3116.272222\n",
       "50%          3496.055671\n",
       "75%          3883.480027\n",
       "max          7665.350000"
      ]
     },
     "execution_count": 43,
     "metadata": {},
     "output_type": "execute_result"
    }
   ],
   "source": [
    "Profitability2004.describe()"
   ]
  },
  {
   "cell_type": "markdown",
   "id": "7154a762",
   "metadata": {},
   "source": [
    "**Repeatability calculation of Sales data of 2004**"
   ]
  },
  {
   "cell_type": "code",
   "execution_count": 44,
   "id": "0a14759d",
   "metadata": {},
   "outputs": [],
   "source": [
    "Repeatability2004 = Repeatability(Sales2004)"
   ]
  },
  {
   "cell_type": "code",
   "execution_count": 45,
   "id": "f659143e",
   "metadata": {},
   "outputs": [
    {
     "data": {
      "text/html": [
       "<div>\n",
       "<style scoped>\n",
       "    .dataframe tbody tr th:only-of-type {\n",
       "        vertical-align: middle;\n",
       "    }\n",
       "\n",
       "    .dataframe tbody tr th {\n",
       "        vertical-align: top;\n",
       "    }\n",
       "\n",
       "    .dataframe thead th {\n",
       "        text-align: right;\n",
       "    }\n",
       "</style>\n",
       "<table border=\"1\" class=\"dataframe\">\n",
       "  <thead>\n",
       "    <tr style=\"text-align: right;\">\n",
       "      <th></th>\n",
       "      <th>Customer</th>\n",
       "      <th>Repeatability</th>\n",
       "    </tr>\n",
       "  </thead>\n",
       "  <tbody>\n",
       "    <tr>\n",
       "      <th>0</th>\n",
       "      <td>Auto Canal Petit</td>\n",
       "      <td>24</td>\n",
       "    </tr>\n",
       "    <tr>\n",
       "      <th>1</th>\n",
       "      <td>Australian Collectors, Co.</td>\n",
       "      <td>38</td>\n",
       "    </tr>\n",
       "    <tr>\n",
       "      <th>2</th>\n",
       "      <td>Vitachrome Inc.</td>\n",
       "      <td>23</td>\n",
       "    </tr>\n",
       "    <tr>\n",
       "      <th>3</th>\n",
       "      <td>Tekni Collectables Inc.</td>\n",
       "      <td>9</td>\n",
       "    </tr>\n",
       "    <tr>\n",
       "      <th>4</th>\n",
       "      <td>Gift Depot Inc.</td>\n",
       "      <td>11</td>\n",
       "    </tr>\n",
       "  </tbody>\n",
       "</table>\n",
       "</div>"
      ],
      "text/plain": [
       "                     Customer  Repeatability\n",
       "0            Auto Canal Petit             24\n",
       "1  Australian Collectors, Co.             38\n",
       "2             Vitachrome Inc.             23\n",
       "3     Tekni Collectables Inc.              9\n",
       "4             Gift Depot Inc.             11"
      ]
     },
     "execution_count": 45,
     "metadata": {},
     "output_type": "execute_result"
    }
   ],
   "source": [
    "Repeatability2004.head()"
   ]
  },
  {
   "cell_type": "code",
   "execution_count": 46,
   "id": "3687c045",
   "metadata": {},
   "outputs": [
    {
     "data": {
      "text/html": [
       "<div>\n",
       "<style scoped>\n",
       "    .dataframe tbody tr th:only-of-type {\n",
       "        vertical-align: middle;\n",
       "    }\n",
       "\n",
       "    .dataframe tbody tr th {\n",
       "        vertical-align: top;\n",
       "    }\n",
       "\n",
       "    .dataframe thead th {\n",
       "        text-align: right;\n",
       "    }\n",
       "</style>\n",
       "<table border=\"1\" class=\"dataframe\">\n",
       "  <thead>\n",
       "    <tr style=\"text-align: right;\">\n",
       "      <th></th>\n",
       "      <th>Repeatability</th>\n",
       "    </tr>\n",
       "  </thead>\n",
       "  <tbody>\n",
       "    <tr>\n",
       "      <th>count</th>\n",
       "      <td>84.000000</td>\n",
       "    </tr>\n",
       "    <tr>\n",
       "      <th>mean</th>\n",
       "      <td>16.011905</td>\n",
       "    </tr>\n",
       "    <tr>\n",
       "      <th>std</th>\n",
       "      <td>14.942858</td>\n",
       "    </tr>\n",
       "    <tr>\n",
       "      <th>min</th>\n",
       "      <td>1.000000</td>\n",
       "    </tr>\n",
       "    <tr>\n",
       "      <th>25%</th>\n",
       "      <td>8.000000</td>\n",
       "    </tr>\n",
       "    <tr>\n",
       "      <th>50%</th>\n",
       "      <td>14.000000</td>\n",
       "    </tr>\n",
       "    <tr>\n",
       "      <th>75%</th>\n",
       "      <td>19.250000</td>\n",
       "    </tr>\n",
       "    <tr>\n",
       "      <th>max</th>\n",
       "      <td>110.000000</td>\n",
       "    </tr>\n",
       "  </tbody>\n",
       "</table>\n",
       "</div>"
      ],
      "text/plain": [
       "       Repeatability\n",
       "count      84.000000\n",
       "mean       16.011905\n",
       "std        14.942858\n",
       "min         1.000000\n",
       "25%         8.000000\n",
       "50%        14.000000\n",
       "75%        19.250000\n",
       "max       110.000000"
      ]
     },
     "execution_count": 46,
     "metadata": {},
     "output_type": "execute_result"
    }
   ],
   "source": [
    "Repeatability2004.describe()"
   ]
  },
  {
   "cell_type": "markdown",
   "id": "699eb671",
   "metadata": {},
   "source": [
    "**Final Calculated Data - Quadrants Data of 2004**"
   ]
  },
  {
   "cell_type": "markdown",
   "id": "0c865ccd",
   "metadata": {},
   "source": [
    "a. (Q1) Premium Customers of 2004"
   ]
  },
  {
   "cell_type": "code",
   "execution_count": 47,
   "id": "c7038abf",
   "metadata": {},
   "outputs": [],
   "source": [
    "Premium2004 = CBFramework(Sales2004, Profitability2004, Repeatability2004, 'Premium', 'Average Deal Size')"
   ]
  },
  {
   "cell_type": "code",
   "execution_count": 48,
   "id": "5ed6007e",
   "metadata": {},
   "outputs": [
    {
     "data": {
      "text/html": [
       "<div>\n",
       "<style scoped>\n",
       "    .dataframe tbody tr th:only-of-type {\n",
       "        vertical-align: middle;\n",
       "    }\n",
       "\n",
       "    .dataframe tbody tr th {\n",
       "        vertical-align: top;\n",
       "    }\n",
       "\n",
       "    .dataframe thead th {\n",
       "        text-align: right;\n",
       "    }\n",
       "</style>\n",
       "<table border=\"1\" class=\"dataframe\">\n",
       "  <thead>\n",
       "    <tr style=\"text-align: right;\">\n",
       "      <th></th>\n",
       "      <th>Customer</th>\n",
       "      <th>Repeatability</th>\n",
       "      <th>Average Deal Size</th>\n",
       "    </tr>\n",
       "  </thead>\n",
       "  <tbody>\n",
       "    <tr>\n",
       "      <th>1</th>\n",
       "      <td>Vitachrome Inc.</td>\n",
       "      <td>23</td>\n",
       "      <td>3529.443913</td>\n",
       "    </tr>\n",
       "    <tr>\n",
       "      <th>6</th>\n",
       "      <td>Auto Assoc. &amp; Cie.</td>\n",
       "      <td>18</td>\n",
       "      <td>3601.906667</td>\n",
       "    </tr>\n",
       "    <tr>\n",
       "      <th>5</th>\n",
       "      <td>Amica Models &amp; Co.</td>\n",
       "      <td>26</td>\n",
       "      <td>3619.894615</td>\n",
       "    </tr>\n",
       "    <tr>\n",
       "      <th>0</th>\n",
       "      <td>Australian Collectors, Co.</td>\n",
       "      <td>38</td>\n",
       "      <td>3706.830789</td>\n",
       "    </tr>\n",
       "    <tr>\n",
       "      <th>4</th>\n",
       "      <td>Tokyo Collectables, Ltd</td>\n",
       "      <td>22</td>\n",
       "      <td>3718.972727</td>\n",
       "    </tr>\n",
       "  </tbody>\n",
       "</table>\n",
       "</div>"
      ],
      "text/plain": [
       "                     Customer  Repeatability  Average Deal Size\n",
       "1             Vitachrome Inc.             23        3529.443913\n",
       "6          Auto Assoc. & Cie.             18        3601.906667\n",
       "5          Amica Models & Co.             26        3619.894615\n",
       "0  Australian Collectors, Co.             38        3706.830789\n",
       "4     Tokyo Collectables, Ltd             22        3718.972727"
      ]
     },
     "execution_count": 48,
     "metadata": {},
     "output_type": "execute_result"
    }
   ],
   "source": [
    "Premium2004.head()"
   ]
  },
  {
   "cell_type": "code",
   "execution_count": 49,
   "id": "950a73b9",
   "metadata": {},
   "outputs": [
    {
     "data": {
      "text/html": [
       "<div>\n",
       "<style scoped>\n",
       "    .dataframe tbody tr th:only-of-type {\n",
       "        vertical-align: middle;\n",
       "    }\n",
       "\n",
       "    .dataframe tbody tr th {\n",
       "        vertical-align: top;\n",
       "    }\n",
       "\n",
       "    .dataframe thead th {\n",
       "        text-align: right;\n",
       "    }\n",
       "</style>\n",
       "<table border=\"1\" class=\"dataframe\">\n",
       "  <thead>\n",
       "    <tr style=\"text-align: right;\">\n",
       "      <th></th>\n",
       "      <th>Repeatability</th>\n",
       "      <th>Average Deal Size</th>\n",
       "    </tr>\n",
       "  </thead>\n",
       "  <tbody>\n",
       "    <tr>\n",
       "      <th>count</th>\n",
       "      <td>11.000000</td>\n",
       "      <td>11.000000</td>\n",
       "    </tr>\n",
       "    <tr>\n",
       "      <th>mean</th>\n",
       "      <td>28.727273</td>\n",
       "      <td>3772.812467</td>\n",
       "    </tr>\n",
       "    <tr>\n",
       "      <th>std</th>\n",
       "      <td>14.533347</td>\n",
       "      <td>162.739974</td>\n",
       "    </tr>\n",
       "    <tr>\n",
       "      <th>min</th>\n",
       "      <td>17.000000</td>\n",
       "      <td>3529.443913</td>\n",
       "    </tr>\n",
       "    <tr>\n",
       "      <th>25%</th>\n",
       "      <td>20.000000</td>\n",
       "      <td>3663.362702</td>\n",
       "    </tr>\n",
       "    <tr>\n",
       "      <th>50%</th>\n",
       "      <td>26.000000</td>\n",
       "      <td>3771.680294</td>\n",
       "    </tr>\n",
       "    <tr>\n",
       "      <th>75%</th>\n",
       "      <td>30.000000</td>\n",
       "      <td>3850.245338</td>\n",
       "    </tr>\n",
       "    <tr>\n",
       "      <th>max</th>\n",
       "      <td>68.000000</td>\n",
       "      <td>4055.494118</td>\n",
       "    </tr>\n",
       "  </tbody>\n",
       "</table>\n",
       "</div>"
      ],
      "text/plain": [
       "       Repeatability  Average Deal Size\n",
       "count      11.000000          11.000000\n",
       "mean       28.727273        3772.812467\n",
       "std        14.533347         162.739974\n",
       "min        17.000000        3529.443913\n",
       "25%        20.000000        3663.362702\n",
       "50%        26.000000        3771.680294\n",
       "75%        30.000000        3850.245338\n",
       "max        68.000000        4055.494118"
      ]
     },
     "execution_count": 49,
     "metadata": {},
     "output_type": "execute_result"
    }
   ],
   "source": [
    "Premium2004.describe()"
   ]
  },
  {
   "cell_type": "markdown",
   "id": "1b7b2699",
   "metadata": {},
   "source": [
    "b. (Q2) High Profitable Low Repeatable Customers of 2004"
   ]
  },
  {
   "cell_type": "code",
   "execution_count": 50,
   "id": "d65158a8",
   "metadata": {},
   "outputs": [],
   "source": [
    "ProfitHighRepeatLow2004 = CBFramework(Sales2004, Profitability2004, Repeatability2004, 'Profit High and Repeat Low', 'Average Deal Size')"
   ]
  },
  {
   "cell_type": "code",
   "execution_count": 51,
   "id": "a914e5d4",
   "metadata": {},
   "outputs": [
    {
     "data": {
      "text/html": [
       "<div>\n",
       "<style scoped>\n",
       "    .dataframe tbody tr th:only-of-type {\n",
       "        vertical-align: middle;\n",
       "    }\n",
       "\n",
       "    .dataframe tbody tr th {\n",
       "        vertical-align: top;\n",
       "    }\n",
       "\n",
       "    .dataframe thead th {\n",
       "        text-align: right;\n",
       "    }\n",
       "</style>\n",
       "<table border=\"1\" class=\"dataframe\">\n",
       "  <thead>\n",
       "    <tr style=\"text-align: right;\">\n",
       "      <th></th>\n",
       "      <th>Customer</th>\n",
       "      <th>Repeatability</th>\n",
       "      <th>Average Deal Size</th>\n",
       "    </tr>\n",
       "  </thead>\n",
       "  <tbody>\n",
       "    <tr>\n",
       "      <th>22</th>\n",
       "      <td>Oulu Toy Supplies, Inc.</td>\n",
       "      <td>5</td>\n",
       "      <td>3562.680000</td>\n",
       "    </tr>\n",
       "    <tr>\n",
       "      <th>26</th>\n",
       "      <td>Diecast Collectables</td>\n",
       "      <td>2</td>\n",
       "      <td>3564.500000</td>\n",
       "    </tr>\n",
       "    <tr>\n",
       "      <th>10</th>\n",
       "      <td>UK Collectables, Ltd.</td>\n",
       "      <td>14</td>\n",
       "      <td>3600.589286</td>\n",
       "    </tr>\n",
       "    <tr>\n",
       "      <th>13</th>\n",
       "      <td>Clover Collections, Co.</td>\n",
       "      <td>16</td>\n",
       "      <td>3609.776875</td>\n",
       "    </tr>\n",
       "    <tr>\n",
       "      <th>23</th>\n",
       "      <td>Lyon Souveniers</td>\n",
       "      <td>9</td>\n",
       "      <td>3624.881111</td>\n",
       "    </tr>\n",
       "  </tbody>\n",
       "</table>\n",
       "</div>"
      ],
      "text/plain": [
       "                   Customer  Repeatability  Average Deal Size\n",
       "22  Oulu Toy Supplies, Inc.              5        3562.680000\n",
       "26     Diecast Collectables              2        3564.500000\n",
       "10    UK Collectables, Ltd.             14        3600.589286\n",
       "13  Clover Collections, Co.             16        3609.776875\n",
       "23          Lyon Souveniers              9        3624.881111"
      ]
     },
     "execution_count": 51,
     "metadata": {},
     "output_type": "execute_result"
    }
   ],
   "source": [
    "ProfitHighRepeatLow2004.head()"
   ]
  },
  {
   "cell_type": "code",
   "execution_count": 52,
   "id": "8f59b060",
   "metadata": {},
   "outputs": [
    {
     "data": {
      "text/html": [
       "<div>\n",
       "<style scoped>\n",
       "    .dataframe tbody tr th:only-of-type {\n",
       "        vertical-align: middle;\n",
       "    }\n",
       "\n",
       "    .dataframe tbody tr th {\n",
       "        vertical-align: top;\n",
       "    }\n",
       "\n",
       "    .dataframe thead th {\n",
       "        text-align: right;\n",
       "    }\n",
       "</style>\n",
       "<table border=\"1\" class=\"dataframe\">\n",
       "  <thead>\n",
       "    <tr style=\"text-align: right;\">\n",
       "      <th></th>\n",
       "      <th>Repeatability</th>\n",
       "      <th>Average Deal Size</th>\n",
       "    </tr>\n",
       "  </thead>\n",
       "  <tbody>\n",
       "    <tr>\n",
       "      <th>count</th>\n",
       "      <td>30.000000</td>\n",
       "      <td>30.000000</td>\n",
       "    </tr>\n",
       "    <tr>\n",
       "      <th>mean</th>\n",
       "      <td>9.700000</td>\n",
       "      <td>4198.587915</td>\n",
       "    </tr>\n",
       "    <tr>\n",
       "      <th>std</th>\n",
       "      <td>4.764452</td>\n",
       "      <td>840.639145</td>\n",
       "    </tr>\n",
       "    <tr>\n",
       "      <th>min</th>\n",
       "      <td>2.000000</td>\n",
       "      <td>3562.680000</td>\n",
       "    </tr>\n",
       "    <tr>\n",
       "      <th>25%</th>\n",
       "      <td>5.250000</td>\n",
       "      <td>3787.153500</td>\n",
       "    </tr>\n",
       "    <tr>\n",
       "      <th>50%</th>\n",
       "      <td>10.000000</td>\n",
       "      <td>3997.026477</td>\n",
       "    </tr>\n",
       "    <tr>\n",
       "      <th>75%</th>\n",
       "      <td>14.000000</td>\n",
       "      <td>4103.802917</td>\n",
       "    </tr>\n",
       "    <tr>\n",
       "      <th>max</th>\n",
       "      <td>16.000000</td>\n",
       "      <td>7665.350000</td>\n",
       "    </tr>\n",
       "  </tbody>\n",
       "</table>\n",
       "</div>"
      ],
      "text/plain": [
       "       Repeatability  Average Deal Size\n",
       "count      30.000000          30.000000\n",
       "mean        9.700000        4198.587915\n",
       "std         4.764452         840.639145\n",
       "min         2.000000        3562.680000\n",
       "25%         5.250000        3787.153500\n",
       "50%        10.000000        3997.026477\n",
       "75%        14.000000        4103.802917\n",
       "max        16.000000        7665.350000"
      ]
     },
     "execution_count": 52,
     "metadata": {},
     "output_type": "execute_result"
    }
   ],
   "source": [
    "ProfitHighRepeatLow2004.describe()"
   ]
  },
  {
   "cell_type": "markdown",
   "id": "6cf2b941",
   "metadata": {},
   "source": [
    "c. (Q3) Critical Customers of 2004"
   ]
  },
  {
   "cell_type": "code",
   "execution_count": 53,
   "id": "1ae4511d",
   "metadata": {},
   "outputs": [],
   "source": [
    "Critical2004 = CBFramework(Sales2004, Profitability2004, Repeatability2004, 'Critical', 'Average Deal Size')"
   ]
  },
  {
   "cell_type": "code",
   "execution_count": 54,
   "id": "2b779c41",
   "metadata": {},
   "outputs": [
    {
     "data": {
      "text/html": [
       "<div>\n",
       "<style scoped>\n",
       "    .dataframe tbody tr th:only-of-type {\n",
       "        vertical-align: middle;\n",
       "    }\n",
       "\n",
       "    .dataframe tbody tr th {\n",
       "        vertical-align: top;\n",
       "    }\n",
       "\n",
       "    .dataframe thead th {\n",
       "        text-align: right;\n",
       "    }\n",
       "</style>\n",
       "<table border=\"1\" class=\"dataframe\">\n",
       "  <thead>\n",
       "    <tr style=\"text-align: right;\">\n",
       "      <th></th>\n",
       "      <th>Customer</th>\n",
       "      <th>Repeatability</th>\n",
       "      <th>Average Deal Size</th>\n",
       "    </tr>\n",
       "  </thead>\n",
       "  <tbody>\n",
       "    <tr>\n",
       "      <th>21</th>\n",
       "      <td>Iberia Gift Imports, Corp.</td>\n",
       "      <td>2</td>\n",
       "      <td>1610.440000</td>\n",
       "    </tr>\n",
       "    <tr>\n",
       "      <th>18</th>\n",
       "      <td>Bavarian Collectables Imports, Co.</td>\n",
       "      <td>14</td>\n",
       "      <td>2499.565714</td>\n",
       "    </tr>\n",
       "    <tr>\n",
       "      <th>1</th>\n",
       "      <td>Atelier graphique</td>\n",
       "      <td>3</td>\n",
       "      <td>2539.886667</td>\n",
       "    </tr>\n",
       "    <tr>\n",
       "      <th>17</th>\n",
       "      <td>Norway Gifts By Mail, Co.</td>\n",
       "      <td>13</td>\n",
       "      <td>2626.574615</td>\n",
       "    </tr>\n",
       "    <tr>\n",
       "      <th>4</th>\n",
       "      <td>Quebec Home Shopping Network</td>\n",
       "      <td>9</td>\n",
       "      <td>2729.392222</td>\n",
       "    </tr>\n",
       "  </tbody>\n",
       "</table>\n",
       "</div>"
      ],
      "text/plain": [
       "                              Customer  Repeatability  Average Deal Size\n",
       "21          Iberia Gift Imports, Corp.              2        1610.440000\n",
       "18  Bavarian Collectables Imports, Co.             14        2499.565714\n",
       "1                    Atelier graphique              3        2539.886667\n",
       "17           Norway Gifts By Mail, Co.             13        2626.574615\n",
       "4         Quebec Home Shopping Network              9        2729.392222"
      ]
     },
     "execution_count": 54,
     "metadata": {},
     "output_type": "execute_result"
    }
   ],
   "source": [
    "Critical2004.head()"
   ]
  },
  {
   "cell_type": "code",
   "execution_count": 55,
   "id": "396e6f02",
   "metadata": {},
   "outputs": [
    {
     "data": {
      "text/html": [
       "<div>\n",
       "<style scoped>\n",
       "    .dataframe tbody tr th:only-of-type {\n",
       "        vertical-align: middle;\n",
       "    }\n",
       "\n",
       "    .dataframe tbody tr th {\n",
       "        vertical-align: top;\n",
       "    }\n",
       "\n",
       "    .dataframe thead th {\n",
       "        text-align: right;\n",
       "    }\n",
       "</style>\n",
       "<table border=\"1\" class=\"dataframe\">\n",
       "  <thead>\n",
       "    <tr style=\"text-align: right;\">\n",
       "      <th></th>\n",
       "      <th>Repeatability</th>\n",
       "      <th>Average Deal Size</th>\n",
       "    </tr>\n",
       "  </thead>\n",
       "  <tbody>\n",
       "    <tr>\n",
       "      <th>count</th>\n",
       "      <td>27.000000</td>\n",
       "      <td>27.000000</td>\n",
       "    </tr>\n",
       "    <tr>\n",
       "      <th>mean</th>\n",
       "      <td>9.000000</td>\n",
       "      <td>2972.315838</td>\n",
       "    </tr>\n",
       "    <tr>\n",
       "      <th>std</th>\n",
       "      <td>4.690416</td>\n",
       "      <td>374.319398</td>\n",
       "    </tr>\n",
       "    <tr>\n",
       "      <th>min</th>\n",
       "      <td>1.000000</td>\n",
       "      <td>1610.440000</td>\n",
       "    </tr>\n",
       "    <tr>\n",
       "      <th>25%</th>\n",
       "      <td>5.500000</td>\n",
       "      <td>2851.217143</td>\n",
       "    </tr>\n",
       "    <tr>\n",
       "      <th>50%</th>\n",
       "      <td>9.000000</td>\n",
       "      <td>3022.160000</td>\n",
       "    </tr>\n",
       "    <tr>\n",
       "      <th>75%</th>\n",
       "      <td>13.500000</td>\n",
       "      <td>3230.345278</td>\n",
       "    </tr>\n",
       "    <tr>\n",
       "      <th>max</th>\n",
       "      <td>16.000000</td>\n",
       "      <td>3492.542143</td>\n",
       "    </tr>\n",
       "  </tbody>\n",
       "</table>\n",
       "</div>"
      ],
      "text/plain": [
       "       Repeatability  Average Deal Size\n",
       "count      27.000000          27.000000\n",
       "mean        9.000000        2972.315838\n",
       "std         4.690416         374.319398\n",
       "min         1.000000        1610.440000\n",
       "25%         5.500000        2851.217143\n",
       "50%         9.000000        3022.160000\n",
       "75%        13.500000        3230.345278\n",
       "max        16.000000        3492.542143"
      ]
     },
     "execution_count": 55,
     "metadata": {},
     "output_type": "execute_result"
    }
   ],
   "source": [
    "Critical2004.describe()"
   ]
  },
  {
   "cell_type": "markdown",
   "id": "ab765f09",
   "metadata": {},
   "source": [
    "d. (Q4) Loyal - Low Profitable High Repeatable Customers of 2004"
   ]
  },
  {
   "cell_type": "code",
   "execution_count": 56,
   "id": "05c69083",
   "metadata": {},
   "outputs": [],
   "source": [
    "ProfitLowRepeatHigh2004 = CBFramework(Sales2004, Profitability2004, Repeatability2004, 'Profit Low and Repeat High', 'Average Deal Size')"
   ]
  },
  {
   "cell_type": "code",
   "execution_count": 57,
   "id": "835c4346",
   "metadata": {},
   "outputs": [
    {
     "data": {
      "text/html": [
       "<div>\n",
       "<style scoped>\n",
       "    .dataframe tbody tr th:only-of-type {\n",
       "        vertical-align: middle;\n",
       "    }\n",
       "\n",
       "    .dataframe tbody tr th {\n",
       "        vertical-align: top;\n",
       "    }\n",
       "\n",
       "    .dataframe thead th {\n",
       "        text-align: right;\n",
       "    }\n",
       "</style>\n",
       "<table border=\"1\" class=\"dataframe\">\n",
       "  <thead>\n",
       "    <tr style=\"text-align: right;\">\n",
       "      <th></th>\n",
       "      <th>Customer</th>\n",
       "      <th>Repeatability</th>\n",
       "      <th>Average Deal Size</th>\n",
       "    </tr>\n",
       "  </thead>\n",
       "  <tbody>\n",
       "    <tr>\n",
       "      <th>8</th>\n",
       "      <td>Royal Canadian Collectables, Ltd.</td>\n",
       "      <td>26</td>\n",
       "      <td>2870.571154</td>\n",
       "    </tr>\n",
       "    <tr>\n",
       "      <th>9</th>\n",
       "      <td>giftsbymail.co.uk</td>\n",
       "      <td>26</td>\n",
       "      <td>3009.263077</td>\n",
       "    </tr>\n",
       "    <tr>\n",
       "      <th>14</th>\n",
       "      <td>AV Stores, Co.</td>\n",
       "      <td>35</td>\n",
       "      <td>3051.139714</td>\n",
       "    </tr>\n",
       "    <tr>\n",
       "      <th>1</th>\n",
       "      <td>La Rochelle Gifts</td>\n",
       "      <td>25</td>\n",
       "      <td>3068.912400</td>\n",
       "    </tr>\n",
       "    <tr>\n",
       "      <th>3</th>\n",
       "      <td>Souveniers And Things Co.</td>\n",
       "      <td>25</td>\n",
       "      <td>3168.091600</td>\n",
       "    </tr>\n",
       "  </tbody>\n",
       "</table>\n",
       "</div>"
      ],
      "text/plain": [
       "                             Customer  Repeatability  Average Deal Size\n",
       "8   Royal Canadian Collectables, Ltd.             26        2870.571154\n",
       "9                   giftsbymail.co.uk             26        3009.263077\n",
       "14                     AV Stores, Co.             35        3051.139714\n",
       "1                   La Rochelle Gifts             25        3068.912400\n",
       "3           Souveniers And Things Co.             25        3168.091600"
      ]
     },
     "execution_count": 57,
     "metadata": {},
     "output_type": "execute_result"
    }
   ],
   "source": [
    "ProfitLowRepeatHigh2004.head()"
   ]
  },
  {
   "cell_type": "code",
   "execution_count": 58,
   "id": "d957dd1d",
   "metadata": {},
   "outputs": [
    {
     "data": {
      "text/html": [
       "<div>\n",
       "<style scoped>\n",
       "    .dataframe tbody tr th:only-of-type {\n",
       "        vertical-align: middle;\n",
       "    }\n",
       "\n",
       "    .dataframe tbody tr th {\n",
       "        vertical-align: top;\n",
       "    }\n",
       "\n",
       "    .dataframe thead th {\n",
       "        text-align: right;\n",
       "    }\n",
       "</style>\n",
       "<table border=\"1\" class=\"dataframe\">\n",
       "  <thead>\n",
       "    <tr style=\"text-align: right;\">\n",
       "      <th></th>\n",
       "      <th>Repeatability</th>\n",
       "      <th>Average Deal Size</th>\n",
       "    </tr>\n",
       "  </thead>\n",
       "  <tbody>\n",
       "    <tr>\n",
       "      <th>count</th>\n",
       "      <td>16.000000</td>\n",
       "      <td>16.000000</td>\n",
       "    </tr>\n",
       "    <tr>\n",
       "      <th>mean</th>\n",
       "      <td>30.937500</td>\n",
       "      <td>3262.997214</td>\n",
       "    </tr>\n",
       "    <tr>\n",
       "      <th>std</th>\n",
       "      <td>22.098171</td>\n",
       "      <td>175.685927</td>\n",
       "    </tr>\n",
       "    <tr>\n",
       "      <th>min</th>\n",
       "      <td>17.000000</td>\n",
       "      <td>2870.571154</td>\n",
       "    </tr>\n",
       "    <tr>\n",
       "      <th>25%</th>\n",
       "      <td>20.000000</td>\n",
       "      <td>3143.296800</td>\n",
       "    </tr>\n",
       "    <tr>\n",
       "      <th>50%</th>\n",
       "      <td>25.000000</td>\n",
       "      <td>3324.472338</td>\n",
       "    </tr>\n",
       "    <tr>\n",
       "      <th>75%</th>\n",
       "      <td>31.000000</td>\n",
       "      <td>3378.541875</td>\n",
       "    </tr>\n",
       "    <tr>\n",
       "      <th>max</th>\n",
       "      <td>110.000000</td>\n",
       "      <td>3499.569200</td>\n",
       "    </tr>\n",
       "  </tbody>\n",
       "</table>\n",
       "</div>"
      ],
      "text/plain": [
       "       Repeatability  Average Deal Size\n",
       "count      16.000000          16.000000\n",
       "mean       30.937500        3262.997214\n",
       "std        22.098171         175.685927\n",
       "min        17.000000        2870.571154\n",
       "25%        20.000000        3143.296800\n",
       "50%        25.000000        3324.472338\n",
       "75%        31.000000        3378.541875\n",
       "max       110.000000        3499.569200"
      ]
     },
     "execution_count": 58,
     "metadata": {},
     "output_type": "execute_result"
    }
   ],
   "source": [
    "ProfitLowRepeatHigh2004.describe()"
   ]
  },
  {
   "cell_type": "markdown",
   "id": "82511a54",
   "metadata": {},
   "source": [
    "**Data Visualisation of 2004**"
   ]
  },
  {
   "cell_type": "code",
   "execution_count": 59,
   "id": "234fe21f",
   "metadata": {},
   "outputs": [],
   "source": [
    "Quadrants2004 = [Premium2004, ProfitHighRepeatLow2004, Critical2004, ProfitLowRepeatHigh2004]\n",
    "\n",
    "Q2004CustomerCount = []\n",
    "for item in Quadrants2004 :\n",
    "    Q2004CustomerCount.append(item[\"Customer\"].count())"
   ]
  },
  {
   "cell_type": "markdown",
   "id": "34a0e748",
   "metadata": {},
   "source": [
    "a. Quadrant share of 2003 (pie chart)"
   ]
  },
  {
   "cell_type": "code",
   "execution_count": 60,
   "id": "89d34a00",
   "metadata": {},
   "outputs": [
    {
     "data": {
      "image/png": "[encoded data removed]",
      "text/plain": [
       "<Figure size 432x288 with 1 Axes>"
      ]
     },
     "metadata": {},
     "output_type": "display_data"
    }
   ],
   "source": [
    "plt.title(\"Quadrant share of 2004\")\n",
    "plt.pie(np.array(Q2004CustomerCount), labels = [\"Premium\", \"Profitable\", \"Critical\", \"Loyal\"],autopct='%1.1f%%')\n",
    "plt.show()"
   ]
  },
  {
   "cell_type": "markdown",
   "id": "48d589e6",
   "metadata": {},
   "source": [
    "b. Quadrant count of 2003 (bar graph)"
   ]
  },
  {
   "cell_type": "code",
   "execution_count": 61,
   "id": "264805d1",
   "metadata": {},
   "outputs": [
    {
     "data": {
      "image/png": "[encoded data removed]",
      "text/plain": [
       "<Figure size 432x288 with 1 Axes>"
      ]
     },
     "metadata": {
      "needs_background": "light"
     },
     "output_type": "display_data"
    }
   ],
   "source": [
    "plt.title(\"Quadrant count of 2004\")\n",
    "plt.ylabel(\"Number of Customers\")\n",
    "plt.xlabel(\"Quadrants\")\n",
    "plt.bar([\"Premium\", \"Profitable\", \"Critical\", \"Loyal\"], Q2004CustomerCount)\n",
    "plt.grid(True)\n",
    "plt.show()"
   ]
  },
  {
   "cell_type": "markdown",
   "id": "4aa0749c",
   "metadata": {},
   "source": [
    "c. Country data in different quadrants of 2004"
   ]
  },
  {
   "cell_type": "code",
   "execution_count": 62,
   "id": "68615c44",
   "metadata": {},
   "outputs": [],
   "source": [
    "cd2004 = CountryData(Quadrants2004)"
   ]
  },
  {
   "cell_type": "code",
   "execution_count": 63,
   "id": "6275b9e7",
   "metadata": {},
   "outputs": [
    {
     "data": {
      "image/png": "[encoded data removed]",
      "text/plain": [
       "<Figure size 432x288 with 1 Axes>"
      ]
     },
     "metadata": {
      "needs_background": "light"
     },
     "output_type": "display_data"
    },
    {
     "data": {
      "image/png": "[encoded data removed]",
      "text/plain": [
       "<Figure size 288x288 with 1 Axes>"
      ]
     },
     "metadata": {},
     "output_type": "display_data"
    },
    {
     "data": {
      "image/png": "[encoded data removed]",
      "text/plain": [
       "<Figure size 432x288 with 1 Axes>"
      ]
     },
     "metadata": {
      "needs_background": "light"
     },
     "output_type": "display_data"
    },
    {
     "data": {
      "image/png": "[encoded data removed]",
      "text/plain": [
       "<Figure size 288x288 with 1 Axes>"
      ]
     },
     "metadata": {},
     "output_type": "display_data"
    },
    {
     "data": {
      "image/png": "[encoded data removed]",
      "text/plain": [
       "<Figure size 432x288 with 1 Axes>"
      ]
     },
     "metadata": {
      "needs_background": "light"
     },
     "output_type": "display_data"
    },
    {
     "data": {
      "image/png": "[encoded data removed]",
      "text/plain": [
       "<Figure size 288x288 with 1 Axes>"
      ]
     },
     "metadata": {},
     "output_type": "display_data"
    },
    {
     "data": {
      "image/png": "[encoded data removed]",
      "text/plain": [
       "<Figure size 432x288 with 1 Axes>"
      ]
     },
     "metadata": {
      "needs_background": "light"
     },
     "output_type": "display_data"
    },
    {
     "data": {
      "image/png": "[encoded data removed]",
      "text/plain": [
       "<Figure size 288x288 with 1 Axes>"
      ]
     },
     "metadata": {},
     "output_type": "display_data"
    }
   ],
   "source": [
    "name = [\"Premium 2004\", \"Profitable 2004\", \"Critical 2004\", \"Loyal 2004\"]\n",
    "for i in range(4):\n",
    "    plt.subplot(4,1,i+1)\n",
    "    plt.title(name[i])\n",
    "    plt.figure(figsize = (4,4))\n",
    "    plt.pie(np.array(list(cd2004[i].values())), labels = list(cd2004[i].keys()), autopct='%1.1f%%')\n",
    "    plt.show()"
   ]
  },
  {
   "cell_type": "markdown",
   "id": "793b520f",
   "metadata": {},
   "source": [
    "# Comparison between 2003 and 2004"
   ]
  },
  {
   "cell_type": "code",
   "execution_count": 64,
   "id": "140b9aa8",
   "metadata": {},
   "outputs": [],
   "source": [
    "Data2003 = [Premium2003, ProfitLowRepeatHigh2003, ProfitHighRepeatLow2003, Critical2003]\n",
    "Data2004 = [Premium2004, ProfitLowRepeatHigh2004, ProfitHighRepeatLow2004, Critical2004]"
   ]
  },
  {
   "cell_type": "markdown",
   "id": "f43cfd7c",
   "metadata": {},
   "source": [
    "**Loss - Moving from high quadrant to low quadrant**"
   ]
  },
  {
   "cell_type": "code",
   "execution_count": 65,
   "id": "0c6585d6",
   "metadata": {},
   "outputs": [],
   "source": [
    "YearLoss = Compare(Data2003, Data2004, \"Loss\")"
   ]
  },
  {
   "cell_type": "code",
   "execution_count": 66,
   "id": "47bec85f",
   "metadata": {},
   "outputs": [
    {
     "data": {
      "text/html": [
       "<div>\n",
       "<style scoped>\n",
       "    .dataframe tbody tr th:only-of-type {\n",
       "        vertical-align: middle;\n",
       "    }\n",
       "\n",
       "    .dataframe tbody tr th {\n",
       "        vertical-align: top;\n",
       "    }\n",
       "\n",
       "    .dataframe thead th {\n",
       "        text-align: right;\n",
       "    }\n",
       "</style>\n",
       "<table border=\"1\" class=\"dataframe\">\n",
       "  <thead>\n",
       "    <tr style=\"text-align: right;\">\n",
       "      <th></th>\n",
       "      <th>Type Of Losses</th>\n",
       "      <th>Loss</th>\n",
       "    </tr>\n",
       "  </thead>\n",
       "  <tbody>\n",
       "    <tr>\n",
       "      <th>0</th>\n",
       "      <td>Loss Of Premium</td>\n",
       "      <td>10</td>\n",
       "    </tr>\n",
       "    <tr>\n",
       "      <th>1</th>\n",
       "      <td>PLRH To PHRL</td>\n",
       "      <td>4</td>\n",
       "    </tr>\n",
       "    <tr>\n",
       "      <th>2</th>\n",
       "      <td>PHRL To PLRH</td>\n",
       "      <td>3</td>\n",
       "    </tr>\n",
       "    <tr>\n",
       "      <th>3</th>\n",
       "      <td>PLRH and PHRL To Critical</td>\n",
       "      <td>12</td>\n",
       "    </tr>\n",
       "  </tbody>\n",
       "</table>\n",
       "</div>"
      ],
      "text/plain": [
       "              Type Of Losses  Loss\n",
       "0            Loss Of Premium    10\n",
       "1               PLRH To PHRL     4\n",
       "2               PHRL To PLRH     3\n",
       "3  PLRH and PHRL To Critical    12"
      ]
     },
     "execution_count": 66,
     "metadata": {},
     "output_type": "execute_result"
    }
   ],
   "source": [
    "YearLoss"
   ]
  },
  {
   "cell_type": "markdown",
   "id": "db6681c1",
   "metadata": {},
   "source": [
    "**Productive - Moving from Low quadrant to High quadrant**"
   ]
  },
  {
   "cell_type": "code",
   "execution_count": 67,
   "id": "20f24e94",
   "metadata": {},
   "outputs": [],
   "source": [
    "YearProductive = Compare(Data2003, Data2004, \"Productive\")"
   ]
  },
  {
   "cell_type": "code",
   "execution_count": 68,
   "id": "26912b34",
   "metadata": {},
   "outputs": [
    {
     "data": {
      "text/html": [
       "<div>\n",
       "<style scoped>\n",
       "    .dataframe tbody tr th:only-of-type {\n",
       "        vertical-align: middle;\n",
       "    }\n",
       "\n",
       "    .dataframe tbody tr th {\n",
       "        vertical-align: top;\n",
       "    }\n",
       "\n",
       "    .dataframe thead th {\n",
       "        text-align: right;\n",
       "    }\n",
       "</style>\n",
       "<table border=\"1\" class=\"dataframe\">\n",
       "  <thead>\n",
       "    <tr style=\"text-align: right;\">\n",
       "      <th></th>\n",
       "      <th>Productive Type</th>\n",
       "      <th>Productive</th>\n",
       "    </tr>\n",
       "  </thead>\n",
       "  <tbody>\n",
       "    <tr>\n",
       "      <th>0</th>\n",
       "      <td>Converted To Premium</td>\n",
       "      <td>4</td>\n",
       "    </tr>\n",
       "    <tr>\n",
       "      <th>1</th>\n",
       "      <td>Converted To High R</td>\n",
       "      <td>1</td>\n",
       "    </tr>\n",
       "    <tr>\n",
       "      <th>2</th>\n",
       "      <td>Converted To High P</td>\n",
       "      <td>11</td>\n",
       "    </tr>\n",
       "  </tbody>\n",
       "</table>\n",
       "</div>"
      ],
      "text/plain": [
       "        Productive Type  Productive\n",
       "0  Converted To Premium           4\n",
       "1   Converted To High R           1\n",
       "2   Converted To High P          11"
      ]
     },
     "execution_count": 68,
     "metadata": {},
     "output_type": "execute_result"
    }
   ],
   "source": [
    "YearProductive"
   ]
  },
  {
   "cell_type": "markdown",
   "id": "8431af23",
   "metadata": {},
   "source": [
    "**Maintained - Maintained in the respective quadrant**"
   ]
  },
  {
   "cell_type": "code",
   "execution_count": 69,
   "id": "49e25f03",
   "metadata": {},
   "outputs": [],
   "source": [
    "YearMaintained = Compare(Data2003, Data2004, \"Maintained\")"
   ]
  },
  {
   "cell_type": "code",
   "execution_count": 70,
   "id": "4d0ae571",
   "metadata": {},
   "outputs": [
    {
     "data": {
      "text/html": [
       "<div>\n",
       "<style scoped>\n",
       "    .dataframe tbody tr th:only-of-type {\n",
       "        vertical-align: middle;\n",
       "    }\n",
       "\n",
       "    .dataframe tbody tr th {\n",
       "        vertical-align: top;\n",
       "    }\n",
       "\n",
       "    .dataframe thead th {\n",
       "        text-align: right;\n",
       "    }\n",
       "</style>\n",
       "<table border=\"1\" class=\"dataframe\">\n",
       "  <thead>\n",
       "    <tr style=\"text-align: right;\">\n",
       "      <th></th>\n",
       "      <th>Maintainance Type</th>\n",
       "      <th>Maintain</th>\n",
       "    </tr>\n",
       "  </thead>\n",
       "  <tbody>\n",
       "    <tr>\n",
       "      <th>0</th>\n",
       "      <td>No Change</td>\n",
       "      <td>15</td>\n",
       "    </tr>\n",
       "    <tr>\n",
       "      <th>1</th>\n",
       "      <td>Premium Maintained</td>\n",
       "      <td>1</td>\n",
       "    </tr>\n",
       "  </tbody>\n",
       "</table>\n",
       "</div>"
      ],
      "text/plain": [
       "    Maintainance Type  Maintain\n",
       "0           No Change        15\n",
       "1  Premium Maintained         1"
      ]
     },
     "execution_count": 70,
     "metadata": {},
     "output_type": "execute_result"
    }
   ],
   "source": [
    "YearMaintained"
   ]
  },
  {
   "cell_type": "markdown",
   "id": "6bb24587",
   "metadata": {},
   "source": [
    "**Data Visualisation of comparison between 2003 and 2004**"
   ]
  },
  {
   "cell_type": "markdown",
   "id": "50d7cbce",
   "metadata": {},
   "source": [
    "a. Quadrants comparison of 2003 and 2004"
   ]
  },
  {
   "cell_type": "code",
   "execution_count": 71,
   "id": "bd065202",
   "metadata": {},
   "outputs": [
    {
     "data": {
      "image/png": "[encoded data removed]",
      "text/plain": [
       "<Figure size 432x288 with 1 Axes>"
      ]
     },
     "metadata": {
      "needs_background": "light"
     },
     "output_type": "display_data"
    }
   ],
   "source": [
    "x=np.arange(4)\n",
    "plt.title(\"Quadrants comparison of 2003 and 2004\")\n",
    "plt.xlabel(\"Quadrants\")\n",
    "plt.ylabel(\"Number of Customers\")\n",
    "width = 0.4\n",
    "plt.bar(x-0.2, Q2003CustomerCount, width)\n",
    "plt.bar(x+0.2, Q2004CustomerCount, width)\n",
    "plt.xticks(x, [\"Premium\", \"Profitable\", \"Critical\", \"Loyal\"])\n",
    "plt.legend([2003,2004])\n",
    "plt.grid(True)\n",
    "plt.show()"
   ]
  },
  {
   "cell_type": "markdown",
   "id": "9f9b988b",
   "metadata": {},
   "source": [
    "b. The average Sales of 2003 and 2004"
   ]
  },
  {
   "cell_type": "code",
   "execution_count": 72,
   "id": "4abb26ba",
   "metadata": {},
   "outputs": [
    {
     "data": {
      "image/png": "[encoded data removed]",
      "text/plain": [
       "<Figure size 432x288 with 1 Axes>"
      ]
     },
     "metadata": {
      "needs_background": "light"
     },
     "output_type": "display_data"
    }
   ],
   "source": [
    "plt.plot(['2003','2004'], [Sales2003[\"SALES\"].mean(), Sales2004[\"SALES\"].mean()])\n",
    "plt.show()"
   ]
  },
  {
   "cell_type": "markdown",
   "id": "e1c355f9",
   "metadata": {},
   "source": [
    "c. Changes over the quadrants over an year"
   ]
  },
  {
   "cell_type": "code",
   "execution_count": 73,
   "id": "dbaad918",
   "metadata": {},
   "outputs": [
    {
     "data": {
      "image/png": "[encoded data removed]",
      "text/plain": [
       "<Figure size 432x288 with 1 Axes>"
      ]
     },
     "metadata": {
      "needs_background": "light"
     },
     "output_type": "display_data"
    }
   ],
   "source": [
    "xaxis = [\"Loss\", \"Maintained\", \"Productive\"]\n",
    "yaxis = [YearLoss[\"Loss\"].sum(), YearMaintained[\"Maintain\"].sum(), YearProductive[\"Productive\"].sum()]\n",
    "plt.bar(xaxis, yaxis, width=0.4)\n",
    "plt.title(\"Comparison - Overall\")\n",
    "plt.xlabel(\"Type\")\n",
    "plt.ylabel(\"Number of Customers\")\n",
    "plt.grid(True)\n",
    "plt.show()"
   ]
  },
  {
   "cell_type": "markdown",
   "id": "cf24790e",
   "metadata": {},
   "source": [
    "d. Study of Losses in detail"
   ]
  },
  {
   "cell_type": "code",
   "execution_count": 74,
   "id": "c67091c0",
   "metadata": {},
   "outputs": [
    {
     "data": {
      "image/png": "[encoded data removed]",
      "text/plain": [
       "<Figure size 432x288 with 1 Axes>"
      ]
     },
     "metadata": {
      "needs_background": "light"
     },
     "output_type": "display_data"
    }
   ],
   "source": [
    "yaxis = list(YearLoss[\"Type Of Losses\"])\n",
    "xaxis = list(YearLoss[\"Loss\"])\n",
    "plt.barh(yaxis, xaxis)\n",
    "plt.title(\"Comparison - Losses\")\n",
    "plt.ylabel(\"Type\")\n",
    "plt.xlabel(\"Number of Customers\")\n",
    "plt.grid(True)\n",
    "plt.show()"
   ]
  },
  {
   "cell_type": "markdown",
   "id": "a402046d",
   "metadata": {},
   "source": [
    "e. Study of maintainace in detail"
   ]
  },
  {
   "cell_type": "code",
   "execution_count": 75,
   "id": "f13f2bfa",
   "metadata": {},
   "outputs": [
    {
     "data": {
      "image/png": "[encoded data removed]",
      "text/plain": [
       "<Figure size 432x288 with 1 Axes>"
      ]
     },
     "metadata": {
      "needs_background": "light"
     },
     "output_type": "display_data"
    }
   ],
   "source": [
    "yaxis = list(YearMaintained[\"Maintainance Type\"])\n",
    "xaxis = list(YearMaintained[\"Maintain\"])\n",
    "plt.barh(yaxis, xaxis)\n",
    "plt.title(\"Comparison - Maintained\")\n",
    "plt.ylabel(\"Type\")\n",
    "plt.xlabel(\"Number of Customers\")\n",
    "plt.grid(True)\n",
    "plt.show()"
   ]
  },
  {
   "cell_type": "markdown",
   "id": "a9fc577d",
   "metadata": {},
   "source": [
    "e. Study of productive detail"
   ]
  },
  {
   "cell_type": "code",
   "execution_count": 76,
   "id": "c04970b7",
   "metadata": {},
   "outputs": [
    {
     "data": {
      "image/png": "[encoded data removed]",
      "text/plain": [
       "<Figure size 432x288 with 1 Axes>"
      ]
     },
     "metadata": {
      "needs_background": "light"
     },
     "output_type": "display_data"
    }
   ],
   "source": [
    "yaxis = list(YearProductive[\"Productive Type\"])\n",
    "xaxis = list(YearProductive[\"Productive\"])\n",
    "plt.barh(yaxis, xaxis)\n",
    "plt.title(\"Comparison - Productive\")\n",
    "plt.ylabel(\"Type\")\n",
    "plt.xlabel(\"Number of Customers\")\n",
    "plt.grid(True)\n",
    "plt.show()"
   ]
  },
  {
   "cell_type": "code",
   "execution_count": 77,
   "id": "e5fcdc8f",
   "metadata": {},
   "outputs": [
    {
     "data": {
      "image/png": "[encoded data removed]",
      "text/plain": [
       "<Figure size 432x288 with 1 Axes>"
      ]
     },
     "metadata": {
      "needs_background": "light"
     },
     "output_type": "display_data"
    }
   ],
   "source": [
    "xaxis = [\"2003\", \"2004\"]\n",
    "yaxis = [np.array(Q2003CustomerCount).sum(), np.array(Q2004CustomerCount).sum()]\n",
    "\n",
    "plt.bar(xaxis, yaxis)\n",
    "plt.title(\"Total Customers\")\n",
    "plt.xlabel(\"Year\")\n",
    "plt.ylabel(\"Number of Customers\")\n",
    "plt.grid(True)\n",
    "plt.show()"
   ]
  },
  {
   "cell_type": "markdown",
   "id": "2f963882",
   "metadata": {},
   "source": [
    "**Existing Customers in 2004**"
   ]
  },
  {
   "cell_type": "code",
   "execution_count": 78,
   "id": "9937ae86",
   "metadata": {},
   "outputs": [],
   "source": [
    "RepeatNextYear=pd.merge(Repeatability2003, Repeatability2004, on=\"Customer\").count()[\"Customer\"]"
   ]
  },
  {
   "cell_type": "code",
   "execution_count": 79,
   "id": "33bce078",
   "metadata": {},
   "outputs": [
    {
     "data": {
      "text/plain": [
       "61"
      ]
     },
     "execution_count": 79,
     "metadata": {},
     "output_type": "execute_result"
    }
   ],
   "source": [
    "RepeatNextYear"
   ]
  },
  {
   "cell_type": "markdown",
   "id": "f0ae9143",
   "metadata": {},
   "source": [
    "**New Customers in 2004**"
   ]
  },
  {
   "cell_type": "code",
   "execution_count": 80,
   "id": "f31a3b7a",
   "metadata": {},
   "outputs": [],
   "source": [
    "NewCustomers = Repeatability2004[\"Customer\"].count()-RepeatNextYear"
   ]
  },
  {
   "cell_type": "code",
   "execution_count": 81,
   "id": "a00bd33e",
   "metadata": {},
   "outputs": [
    {
     "data": {
      "text/plain": [
       "23"
      ]
     },
     "execution_count": 81,
     "metadata": {},
     "output_type": "execute_result"
    }
   ],
   "source": [
    "NewCustomers"
   ]
  },
  {
   "cell_type": "code",
   "execution_count": 82,
   "id": "3c06957e",
   "metadata": {},
   "outputs": [],
   "source": [
    "CustomerNotResponding = Repeatability2003[\"Customer\"].count()-RepeatNextYear"
   ]
  },
  {
   "cell_type": "code",
   "execution_count": 83,
   "id": "7d48e075",
   "metadata": {},
   "outputs": [
    {
     "data": {
      "text/plain": [
       "8"
      ]
     },
     "execution_count": 83,
     "metadata": {},
     "output_type": "execute_result"
    }
   ],
   "source": [
    "CustomerNotResponding"
   ]
  },
  {
   "cell_type": "code",
   "execution_count": 84,
   "id": "abda573e",
   "metadata": {},
   "outputs": [
    {
     "data": {
      "image/png": "[encoded data removed]",
      "text/plain": [
       "<Figure size 432x288 with 1 Axes>"
      ]
     },
     "metadata": {},
     "output_type": "display_data"
    }
   ],
   "source": [
    "plt.title(\"Comparison between type of customers in 2004\")\n",
    "plt.pie(np.array([RepeatNextYear, NewCustomers, CustomerNotResponding]), labels = [\"RepeatNextYear\", \"NewCustomers\", \"CustomerNotResponding\"], autopct='%1.1f%%')\n",
    "plt.show()"
   ]
  },
  {
   "cell_type": "markdown",
   "id": "db86f29c",
   "metadata": {},
   "source": [
    "# Quarter analysis - 2003"
   ]
  },
  {
   "cell_type": "markdown",
   "id": "da25a5f9",
   "metadata": {},
   "source": [
    "**Quarter's data of 2003**"
   ]
  },
  {
   "cell_type": "code",
   "execution_count": 85,
   "id": "004c1922",
   "metadata": {},
   "outputs": [],
   "source": [
    "Qtr_2003 =[]\n",
    "for i in range(1,5) : Qtr_2003.append(SalesOfQtr(i, Sales2003))\n",
    "# [[Q1], [Q2], [Q3], [Q4]]"
   ]
  },
  {
   "cell_type": "code",
   "execution_count": 86,
   "id": "e3217a8f",
   "metadata": {},
   "outputs": [
    {
     "data": {
      "text/html": [
       "<div>\n",
       "<style scoped>\n",
       "    .dataframe tbody tr th:only-of-type {\n",
       "        vertical-align: middle;\n",
       "    }\n",
       "\n",
       "    .dataframe tbody tr th {\n",
       "        vertical-align: top;\n",
       "    }\n",
       "\n",
       "    .dataframe thead th {\n",
       "        text-align: right;\n",
       "    }\n",
       "</style>\n",
       "<table border=\"1\" class=\"dataframe\">\n",
       "  <thead>\n",
       "    <tr style=\"text-align: right;\">\n",
       "      <th></th>\n",
       "      <th>QTR_ID</th>\n",
       "      <th>MONTH_ID</th>\n",
       "      <th>YEAR_ID</th>\n",
       "      <th>CUSTOMERNAME</th>\n",
       "      <th>COUNTRY</th>\n",
       "      <th>SALES</th>\n",
       "      <th>DEALSIZE</th>\n",
       "    </tr>\n",
       "  </thead>\n",
       "  <tbody>\n",
       "    <tr>\n",
       "      <th>0</th>\n",
       "      <td>1</td>\n",
       "      <td>2</td>\n",
       "      <td>2003</td>\n",
       "      <td>Land of Toys Inc.</td>\n",
       "      <td>USA</td>\n",
       "      <td>2871.00</td>\n",
       "      <td>Small</td>\n",
       "    </tr>\n",
       "    <tr>\n",
       "      <th>26</th>\n",
       "      <td>1</td>\n",
       "      <td>1</td>\n",
       "      <td>2003</td>\n",
       "      <td>Baane Mini Imports</td>\n",
       "      <td>Norway</td>\n",
       "      <td>5404.62</td>\n",
       "      <td>Medium</td>\n",
       "    </tr>\n",
       "    <tr>\n",
       "      <th>27</th>\n",
       "      <td>1</td>\n",
       "      <td>3</td>\n",
       "      <td>2003</td>\n",
       "      <td>Volvo Model Replicas, Co</td>\n",
       "      <td>Sweden</td>\n",
       "      <td>7209.11</td>\n",
       "      <td>Large</td>\n",
       "    </tr>\n",
       "    <tr>\n",
       "      <th>54</th>\n",
       "      <td>1</td>\n",
       "      <td>2</td>\n",
       "      <td>2003</td>\n",
       "      <td>Land of Toys Inc.</td>\n",
       "      <td>USA</td>\n",
       "      <td>3896.49</td>\n",
       "      <td>Medium</td>\n",
       "    </tr>\n",
       "    <tr>\n",
       "      <th>80</th>\n",
       "      <td>1</td>\n",
       "      <td>2</td>\n",
       "      <td>2003</td>\n",
       "      <td>Land of Toys Inc.</td>\n",
       "      <td>USA</td>\n",
       "      <td>6065.55</td>\n",
       "      <td>Medium</td>\n",
       "    </tr>\n",
       "  </tbody>\n",
       "</table>\n",
       "</div>"
      ],
      "text/plain": [
       "    QTR_ID  MONTH_ID  YEAR_ID              CUSTOMERNAME COUNTRY    SALES  \\\n",
       "0        1         2     2003         Land of Toys Inc.     USA  2871.00   \n",
       "26       1         1     2003        Baane Mini Imports  Norway  5404.62   \n",
       "27       1         3     2003  Volvo Model Replicas, Co  Sweden  7209.11   \n",
       "54       1         2     2003         Land of Toys Inc.     USA  3896.49   \n",
       "80       1         2     2003         Land of Toys Inc.     USA  6065.55   \n",
       "\n",
       "   DEALSIZE  \n",
       "0     Small  \n",
       "26   Medium  \n",
       "27    Large  \n",
       "54   Medium  \n",
       "80   Medium  "
      ]
     },
     "execution_count": 86,
     "metadata": {},
     "output_type": "execute_result"
    }
   ],
   "source": [
    "Qtr_2003[0].head()"
   ]
  },
  {
   "cell_type": "code",
   "execution_count": 87,
   "id": "1a3c62b0",
   "metadata": {},
   "outputs": [
    {
     "data": {
      "text/html": [
       "<div>\n",
       "<style scoped>\n",
       "    .dataframe tbody tr th:only-of-type {\n",
       "        vertical-align: middle;\n",
       "    }\n",
       "\n",
       "    .dataframe tbody tr th {\n",
       "        vertical-align: top;\n",
       "    }\n",
       "\n",
       "    .dataframe thead th {\n",
       "        text-align: right;\n",
       "    }\n",
       "</style>\n",
       "<table border=\"1\" class=\"dataframe\">\n",
       "  <thead>\n",
       "    <tr style=\"text-align: right;\">\n",
       "      <th></th>\n",
       "      <th>QTR_ID</th>\n",
       "      <th>MONTH_ID</th>\n",
       "      <th>YEAR_ID</th>\n",
       "      <th>SALES</th>\n",
       "    </tr>\n",
       "  </thead>\n",
       "  <tbody>\n",
       "    <tr>\n",
       "      <th>count</th>\n",
       "      <td>130.0</td>\n",
       "      <td>130.000000</td>\n",
       "      <td>130.0</td>\n",
       "      <td>130.000000</td>\n",
       "    </tr>\n",
       "    <tr>\n",
       "      <th>mean</th>\n",
       "      <td>1.0</td>\n",
       "      <td>2.084615</td>\n",
       "      <td>2003.0</td>\n",
       "      <td>3423.805308</td>\n",
       "    </tr>\n",
       "    <tr>\n",
       "      <th>std</th>\n",
       "      <td>0.0</td>\n",
       "      <td>0.826261</td>\n",
       "      <td>0.0</td>\n",
       "      <td>1538.365534</td>\n",
       "    </tr>\n",
       "    <tr>\n",
       "      <th>min</th>\n",
       "      <td>1.0</td>\n",
       "      <td>1.000000</td>\n",
       "      <td>2003.0</td>\n",
       "      <td>710.200000</td>\n",
       "    </tr>\n",
       "    <tr>\n",
       "      <th>25%</th>\n",
       "      <td>1.0</td>\n",
       "      <td>1.000000</td>\n",
       "      <td>2003.0</td>\n",
       "      <td>2158.230000</td>\n",
       "    </tr>\n",
       "    <tr>\n",
       "      <th>50%</th>\n",
       "      <td>1.0</td>\n",
       "      <td>2.000000</td>\n",
       "      <td>2003.0</td>\n",
       "      <td>3225.970000</td>\n",
       "    </tr>\n",
       "    <tr>\n",
       "      <th>75%</th>\n",
       "      <td>1.0</td>\n",
       "      <td>3.000000</td>\n",
       "      <td>2003.0</td>\n",
       "      <td>4304.625000</td>\n",
       "    </tr>\n",
       "    <tr>\n",
       "      <th>max</th>\n",
       "      <td>1.0</td>\n",
       "      <td>3.000000</td>\n",
       "      <td>2003.0</td>\n",
       "      <td>8690.360000</td>\n",
       "    </tr>\n",
       "  </tbody>\n",
       "</table>\n",
       "</div>"
      ],
      "text/plain": [
       "       QTR_ID    MONTH_ID  YEAR_ID        SALES\n",
       "count   130.0  130.000000    130.0   130.000000\n",
       "mean      1.0    2.084615   2003.0  3423.805308\n",
       "std       0.0    0.826261      0.0  1538.365534\n",
       "min       1.0    1.000000   2003.0   710.200000\n",
       "25%       1.0    1.000000   2003.0  2158.230000\n",
       "50%       1.0    2.000000   2003.0  3225.970000\n",
       "75%       1.0    3.000000   2003.0  4304.625000\n",
       "max       1.0    3.000000   2003.0  8690.360000"
      ]
     },
     "execution_count": 87,
     "metadata": {},
     "output_type": "execute_result"
    }
   ],
   "source": [
    "Qtr_2003[0].describe()"
   ]
  },
  {
   "cell_type": "markdown",
   "id": "024fb90f",
   "metadata": {},
   "source": [
    "**Profitability and Repeatability Data of Quarters of 2003**"
   ]
  },
  {
   "cell_type": "code",
   "execution_count": 88,
   "id": "f5d5454e",
   "metadata": {},
   "outputs": [],
   "source": [
    "PR_Qtr_2003 = []\n",
    "for qtr in Qtr_2003 : PR_Qtr_2003.append([Profit(qtr), Repeatability(qtr)])\n",
    "#[[Q1P, Q1R], [Q2P, Q2R], [Q3P, Q3R], [Q4P, Q4R]]"
   ]
  },
  {
   "cell_type": "code",
   "execution_count": 89,
   "id": "d2156882",
   "metadata": {},
   "outputs": [
    {
     "data": {
      "text/html": [
       "<div>\n",
       "<style scoped>\n",
       "    .dataframe tbody tr th:only-of-type {\n",
       "        vertical-align: middle;\n",
       "    }\n",
       "\n",
       "    .dataframe tbody tr th {\n",
       "        vertical-align: top;\n",
       "    }\n",
       "\n",
       "    .dataframe thead th {\n",
       "        text-align: right;\n",
       "    }\n",
       "</style>\n",
       "<table border=\"1\" class=\"dataframe\">\n",
       "  <thead>\n",
       "    <tr style=\"text-align: right;\">\n",
       "      <th></th>\n",
       "      <th>Customer</th>\n",
       "      <th>Average Deal Size</th>\n",
       "    </tr>\n",
       "  </thead>\n",
       "  <tbody>\n",
       "    <tr>\n",
       "      <th>2</th>\n",
       "      <td>Volvo Model Replicas, Co</td>\n",
       "      <td>4874.500000</td>\n",
       "    </tr>\n",
       "    <tr>\n",
       "      <th>7</th>\n",
       "      <td>Motor Mint Distributors Inc.</td>\n",
       "      <td>4566.470000</td>\n",
       "    </tr>\n",
       "    <tr>\n",
       "      <th>3</th>\n",
       "      <td>Danish Wholesale Imports</td>\n",
       "      <td>3924.740667</td>\n",
       "    </tr>\n",
       "    <tr>\n",
       "      <th>4</th>\n",
       "      <td>Cruz &amp; Sons Co.</td>\n",
       "      <td>3452.813750</td>\n",
       "    </tr>\n",
       "    <tr>\n",
       "      <th>6</th>\n",
       "      <td>Euro Shopping Channel</td>\n",
       "      <td>3432.458462</td>\n",
       "    </tr>\n",
       "  </tbody>\n",
       "</table>\n",
       "</div>"
      ],
      "text/plain": [
       "                       Customer  Average Deal Size\n",
       "2      Volvo Model Replicas, Co        4874.500000\n",
       "7  Motor Mint Distributors Inc.        4566.470000\n",
       "3      Danish Wholesale Imports        3924.740667\n",
       "4               Cruz & Sons Co.        3452.813750\n",
       "6         Euro Shopping Channel        3432.458462"
      ]
     },
     "execution_count": 89,
     "metadata": {},
     "output_type": "execute_result"
    }
   ],
   "source": [
    "PR_Qtr_2003[0][0].head()"
   ]
  },
  {
   "cell_type": "code",
   "execution_count": 90,
   "id": "db31b33b",
   "metadata": {},
   "outputs": [
    {
     "data": {
      "text/html": [
       "<div>\n",
       "<style scoped>\n",
       "    .dataframe tbody tr th:only-of-type {\n",
       "        vertical-align: middle;\n",
       "    }\n",
       "\n",
       "    .dataframe tbody tr th {\n",
       "        vertical-align: top;\n",
       "    }\n",
       "\n",
       "    .dataframe thead th {\n",
       "        text-align: right;\n",
       "    }\n",
       "</style>\n",
       "<table border=\"1\" class=\"dataframe\">\n",
       "  <thead>\n",
       "    <tr style=\"text-align: right;\">\n",
       "      <th></th>\n",
       "      <th>Average Deal Size</th>\n",
       "    </tr>\n",
       "  </thead>\n",
       "  <tbody>\n",
       "    <tr>\n",
       "      <th>count</th>\n",
       "      <td>14.000000</td>\n",
       "    </tr>\n",
       "    <tr>\n",
       "      <th>mean</th>\n",
       "      <td>3481.544630</td>\n",
       "    </tr>\n",
       "    <tr>\n",
       "      <th>std</th>\n",
       "      <td>586.717685</td>\n",
       "    </tr>\n",
       "    <tr>\n",
       "      <th>min</th>\n",
       "      <td>2858.085000</td>\n",
       "    </tr>\n",
       "    <tr>\n",
       "      <th>25%</th>\n",
       "      <td>3117.243611</td>\n",
       "    </tr>\n",
       "    <tr>\n",
       "      <th>50%</th>\n",
       "      <td>3320.922500</td>\n",
       "    </tr>\n",
       "    <tr>\n",
       "      <th>75%</th>\n",
       "      <td>3447.724928</td>\n",
       "    </tr>\n",
       "    <tr>\n",
       "      <th>max</th>\n",
       "      <td>4874.500000</td>\n",
       "    </tr>\n",
       "  </tbody>\n",
       "</table>\n",
       "</div>"
      ],
      "text/plain": [
       "       Average Deal Size\n",
       "count          14.000000\n",
       "mean         3481.544630\n",
       "std           586.717685\n",
       "min          2858.085000\n",
       "25%          3117.243611\n",
       "50%          3320.922500\n",
       "75%          3447.724928\n",
       "max          4874.500000"
      ]
     },
     "execution_count": 90,
     "metadata": {},
     "output_type": "execute_result"
    }
   ],
   "source": [
    "PR_Qtr_2003[0][0].describe()"
   ]
  },
  {
   "cell_type": "markdown",
   "id": "eb788a2b",
   "metadata": {},
   "source": [
    "**Quadrants Data of Quarters of 2003**"
   ]
  },
  {
   "cell_type": "code",
   "execution_count": 91,
   "id": "292258c6",
   "metadata": {},
   "outputs": [],
   "source": [
    "Data_Qtr_2003 = []\n",
    "d = ['Premium', 'Profit Low and Repeat High', 'Profit High and Repeat Low', 'Critical']\n",
    "for i in range(4) :\n",
    "    k = []\n",
    "    for item in d :\n",
    "        k.append(CBFramework(Qtr_2003[0], PR_Qtr_2003[i][0], PR_Qtr_2003[i][1], item, 'Average Deal Size'))\n",
    "    Data_Qtr_2003.append(k)"
   ]
  },
  {
   "cell_type": "code",
   "execution_count": 92,
   "id": "36cfb8e3",
   "metadata": {},
   "outputs": [
    {
     "data": {
      "text/html": [
       "<div>\n",
       "<style scoped>\n",
       "    .dataframe tbody tr th:only-of-type {\n",
       "        vertical-align: middle;\n",
       "    }\n",
       "\n",
       "    .dataframe tbody tr th {\n",
       "        vertical-align: top;\n",
       "    }\n",
       "\n",
       "    .dataframe thead th {\n",
       "        text-align: right;\n",
       "    }\n",
       "</style>\n",
       "<table border=\"1\" class=\"dataframe\">\n",
       "  <thead>\n",
       "    <tr style=\"text-align: right;\">\n",
       "      <th></th>\n",
       "      <th>Customer</th>\n",
       "      <th>Repeatability</th>\n",
       "      <th>Average Deal Size</th>\n",
       "    </tr>\n",
       "  </thead>\n",
       "  <tbody>\n",
       "    <tr>\n",
       "      <th>2</th>\n",
       "      <td>Euro Shopping Channel</td>\n",
       "      <td>13</td>\n",
       "      <td>3432.458462</td>\n",
       "    </tr>\n",
       "    <tr>\n",
       "      <th>1</th>\n",
       "      <td>Cruz &amp; Sons Co.</td>\n",
       "      <td>16</td>\n",
       "      <td>3452.813750</td>\n",
       "    </tr>\n",
       "    <tr>\n",
       "      <th>0</th>\n",
       "      <td>Danish Wholesale Imports</td>\n",
       "      <td>15</td>\n",
       "      <td>3924.740667</td>\n",
       "    </tr>\n",
       "  </tbody>\n",
       "</table>\n",
       "</div>"
      ],
      "text/plain": [
       "                   Customer  Repeatability  Average Deal Size\n",
       "2     Euro Shopping Channel             13        3432.458462\n",
       "1           Cruz & Sons Co.             16        3452.813750\n",
       "0  Danish Wholesale Imports             15        3924.740667"
      ]
     },
     "execution_count": 92,
     "metadata": {},
     "output_type": "execute_result"
    }
   ],
   "source": [
    "#[[Q1premium, Q1PLRH, Q3PHRL, Q4Critical], [Q2...], [Q3...], [Q4...]]\n",
    "Data_Qtr_2003[0][0]\n",
    "#premium of qtr 1"
   ]
  },
  {
   "cell_type": "markdown",
   "id": "898bda64",
   "metadata": {},
   "source": [
    "**Comparison of number of premium customers and other customers of 2003**"
   ]
  },
  {
   "cell_type": "code",
   "execution_count": 93,
   "id": "a58fe476",
   "metadata": {},
   "outputs": [],
   "source": [
    "Q_2003 = []\n",
    "for i in range(4) :\n",
    "    a = []\n",
    "    for j in range(4) :\n",
    "        a.append(Data_Qtr_2003[i][j][\"Customer\"].count())\n",
    "    Q_2003.append(a)"
   ]
  },
  {
   "cell_type": "code",
   "execution_count": 94,
   "id": "9453f778",
   "metadata": {},
   "outputs": [],
   "source": [
    "PremiumCount_2003 = []\n",
    "for i in range(4) : \n",
    "    PremiumCount_2003.append(Q_2003[i][0])"
   ]
  },
  {
   "cell_type": "code",
   "execution_count": 95,
   "id": "af1413d7",
   "metadata": {},
   "outputs": [
    {
     "data": {
      "text/plain": [
       "[3, 5, 5, 11]"
      ]
     },
     "execution_count": 95,
     "metadata": {},
     "output_type": "execute_result"
    }
   ],
   "source": [
    "PremiumCount_2003"
   ]
  },
  {
   "cell_type": "code",
   "execution_count": 96,
   "id": "7e8be5da",
   "metadata": {},
   "outputs": [],
   "source": [
    "OthersCount_2003 = []\n",
    "for i in range(4) :\n",
    "    s=0\n",
    "    for j in range(1,4) :\n",
    "        s = s + Q_2003[i][j]\n",
    "    OthersCount_2003.append(s)"
   ]
  },
  {
   "cell_type": "code",
   "execution_count": 97,
   "id": "4d82b221",
   "metadata": {},
   "outputs": [
    {
     "data": {
      "text/plain": [
       "[11, 12, 13, 35]"
      ]
     },
     "execution_count": 97,
     "metadata": {},
     "output_type": "execute_result"
    }
   ],
   "source": [
    "OthersCount_2003"
   ]
  },
  {
   "cell_type": "markdown",
   "id": "ead8a38a",
   "metadata": {},
   "source": [
    "**Visualisation of Quarter analysis of 2003**"
   ]
  },
  {
   "cell_type": "markdown",
   "id": "2d1294c8",
   "metadata": {},
   "source": [
    "a. Quadrant shares of quarters of 2003"
   ]
  },
  {
   "cell_type": "code",
   "execution_count": 98,
   "id": "5116b8d4",
   "metadata": {},
   "outputs": [
    {
     "data": {
      "image/png": "[encoded data removed]",
      "text/plain": [
       "<Figure size 432x288 with 1 Axes>"
      ]
     },
     "metadata": {
      "needs_background": "light"
     },
     "output_type": "display_data"
    },
    {
     "data": {
      "image/png": "[encoded data removed]",
      "text/plain": [
       "<Figure size 288x288 with 1 Axes>"
      ]
     },
     "metadata": {},
     "output_type": "display_data"
    },
    {
     "data": {
      "image/png": "[encoded data removed]",
      "text/plain": [
       "<Figure size 432x288 with 1 Axes>"
      ]
     },
     "metadata": {
      "needs_background": "light"
     },
     "output_type": "display_data"
    },
    {
     "data": {
      "image/png": "[encoded data removed]",
      "text/plain": [
       "<Figure size 288x288 with 1 Axes>"
      ]
     },
     "metadata": {},
     "output_type": "display_data"
    },
    {
     "data": {
      "image/png": "[encoded data removed]",
      "text/plain": [
       "<Figure size 432x288 with 1 Axes>"
      ]
     },
     "metadata": {
      "needs_background": "light"
     },
     "output_type": "display_data"
    },
    {
     "data": {
      "image/png": "[encoded data removed]",
      "text/plain": [
       "<Figure size 288x288 with 1 Axes>"
      ]
     },
     "metadata": {},
     "output_type": "display_data"
    },
    {
     "data": {
      "image/png": "[encoded data removed]",
      "text/plain": [
       "<Figure size 432x288 with 1 Axes>"
      ]
     },
     "metadata": {
      "needs_background": "light"
     },
     "output_type": "display_data"
    },
    {
     "data": {
      "image/png": "[encoded data removed]",
      "text/plain": [
       "<Figure size 288x288 with 1 Axes>"
      ]
     },
     "metadata": {},
     "output_type": "display_data"
    }
   ],
   "source": [
    "for i in range(4) :\n",
    "    plt.subplot(4,1,i+1)\n",
    "    a = []\n",
    "    for j in range(4) :\n",
    "        a.append(Data_Qtr_2003[i][j][\"Customer\"].count())\n",
    "\n",
    "    plt.title(\"Q\"+str(i+1))\n",
    "    plt.figure(figsize = (4,4))\n",
    "    plt.pie(np.array(a), labels = ['Premium', 'PLowRHigh', 'PHighRLow', 'Critical'], autopct='%1.1f%%')\n",
    "    plt.show()"
   ]
  },
  {
   "cell_type": "markdown",
   "id": "2ad2c003",
   "metadata": {},
   "source": [
    "b. Number of Customers in each of the quadrant of 2003"
   ]
  },
  {
   "cell_type": "code",
   "execution_count": 99,
   "id": "99379edc",
   "metadata": {},
   "outputs": [
    {
     "data": {
      "image/png": "[encoded data removed]",
      "text/plain": [
       "<Figure size 432x288 with 1 Axes>"
      ]
     },
     "metadata": {
      "needs_background": "light"
     },
     "output_type": "display_data"
    }
   ],
   "source": [
    "xaxis = ['Premium', 'PLowRHigh', 'PHighRLow', 'Critical']\n",
    "x=np.array([2,4,6,8])\n",
    "plt.title(\"Quadrants data of 2003\")    \n",
    "plt.xlabel(\"Type\")\n",
    "plt.ylabel(\"Number of Customers\")\n",
    "width = 0.8\n",
    "plt.bar(x-0.6, Q_2003[0], width=0.4)\n",
    "plt.bar(x-0.2, Q_2003[1], width=0.4)\n",
    "plt.bar(x+0.2, Q_2003[2], width=0.4)\n",
    "plt.bar(x+0.6, Q_2003[3], width=0.4)\n",
    "plt.xticks(x, xaxis)\n",
    "plt.legend([\"Q1\", \"Q2\", \"Q3\", \"Q4\"])\n",
    "plt.grid(True)\n",
    "plt.show()"
   ]
  },
  {
   "cell_type": "markdown",
   "id": "62c21a47",
   "metadata": {},
   "source": [
    "c. Premium VS Others of 2003"
   ]
  },
  {
   "cell_type": "code",
   "execution_count": 100,
   "id": "6f8232d4",
   "metadata": {},
   "outputs": [
    {
     "data": {
      "image/png": "[encoded data removed]",
      "text/plain": [
       "<Figure size 432x288 with 1 Axes>"
      ]
     },
     "metadata": {
      "needs_background": "light"
     },
     "output_type": "display_data"
    }
   ],
   "source": [
    "x = np.arange(4)\n",
    "plt.title(\"Premium VS Others 2003\")\n",
    "plt.xlabel(\"Quarters\")\n",
    "plt.ylabel(\"Number of Customers\")\n",
    "width = 0.4\n",
    "plt.bar(x-0.2, PremiumCount_2003, width)\n",
    "plt.bar(x+0.2, OthersCount_2003, width)\n",
    "plt.xticks(x, [\"Q1\", \"Q2\", \"Q3\", \"Q4\"])\n",
    "plt.legend([\"Premium\", \"Others\"])\n",
    "plt.grid(True)\n",
    "plt.show()"
   ]
  },
  {
   "cell_type": "code",
   "execution_count": 101,
   "id": "e35fed3f",
   "metadata": {},
   "outputs": [
    {
     "data": {
      "image/png": "[encoded data removed]",
      "text/plain": [
       "<Figure size 432x288 with 1 Axes>"
      ]
     },
     "metadata": {
      "needs_background": "light"
     },
     "output_type": "display_data"
    },
    {
     "data": {
      "image/png": "[encoded data removed]",
      "text/plain": [
       "<Figure size 288x288 with 1 Axes>"
      ]
     },
     "metadata": {},
     "output_type": "display_data"
    },
    {
     "data": {
      "image/png": "[encoded data removed]",
      "text/plain": [
       "<Figure size 432x288 with 1 Axes>"
      ]
     },
     "metadata": {
      "needs_background": "light"
     },
     "output_type": "display_data"
    },
    {
     "data": {
      "image/png": "[encoded data removed]",
      "text/plain": [
       "<Figure size 288x288 with 1 Axes>"
      ]
     },
     "metadata": {},
     "output_type": "display_data"
    },
    {
     "data": {
      "image/png": "[encoded data removed]",
      "text/plain": [
       "<Figure size 432x288 with 1 Axes>"
      ]
     },
     "metadata": {
      "needs_background": "light"
     },
     "output_type": "display_data"
    },
    {
     "data": {
      "image/png": "[encoded data removed]",
      "text/plain": [
       "<Figure size 288x288 with 1 Axes>"
      ]
     },
     "metadata": {},
     "output_type": "display_data"
    },
    {
     "data": {
      "image/png": "[encoded data removed]",
      "text/plain": [
       "<Figure size 432x288 with 1 Axes>"
      ]
     },
     "metadata": {
      "needs_background": "light"
     },
     "output_type": "display_data"
    },
    {
     "data": {
      "image/png": "[encoded data removed]",
      "text/plain": [
       "<Figure size 288x288 with 1 Axes>"
      ]
     },
     "metadata": {},
     "output_type": "display_data"
    }
   ],
   "source": [
    "for i in range(4) :\n",
    "    plt.subplot(4,1,i+1)\n",
    "    plt.figure(figsize = (4,4))\n",
    "    plt.title(\"Q\"+str(i+1))\n",
    "    plt.pie(np.array([PremiumCount_2003[i], OthersCount_2003[i]]), labels = [\"Premium\", \"Others\"], autopct='%1.1f%%')\n",
    "    plt.show()"
   ]
  },
  {
   "cell_type": "markdown",
   "id": "1ce9b1a1",
   "metadata": {},
   "source": [
    "# Quarter analysis - 2004"
   ]
  },
  {
   "cell_type": "markdown",
   "id": "14cb26db",
   "metadata": {},
   "source": [
    "**Quarter's data of 2004**"
   ]
  },
  {
   "cell_type": "code",
   "execution_count": 102,
   "id": "df50721a",
   "metadata": {},
   "outputs": [],
   "source": [
    "Qtr_2004 =[]\n",
    "for i in range(1,5) : Qtr_2004.append(SalesOfQtr(i, Sales2004))"
   ]
  },
  {
   "cell_type": "code",
   "execution_count": 103,
   "id": "66c8d6c1",
   "metadata": {},
   "outputs": [
    {
     "data": {
      "text/html": [
       "<div>\n",
       "<style scoped>\n",
       "    .dataframe tbody tr th:only-of-type {\n",
       "        vertical-align: middle;\n",
       "    }\n",
       "\n",
       "    .dataframe tbody tr th {\n",
       "        vertical-align: top;\n",
       "    }\n",
       "\n",
       "    .dataframe thead th {\n",
       "        text-align: right;\n",
       "    }\n",
       "</style>\n",
       "<table border=\"1\" class=\"dataframe\">\n",
       "  <thead>\n",
       "    <tr style=\"text-align: right;\">\n",
       "      <th></th>\n",
       "      <th>QTR_ID</th>\n",
       "      <th>MONTH_ID</th>\n",
       "      <th>YEAR_ID</th>\n",
       "      <th>CUSTOMERNAME</th>\n",
       "      <th>COUNTRY</th>\n",
       "      <th>SALES</th>\n",
       "      <th>DEALSIZE</th>\n",
       "    </tr>\n",
       "  </thead>\n",
       "  <tbody>\n",
       "    <tr>\n",
       "      <th>9</th>\n",
       "      <td>1</td>\n",
       "      <td>1</td>\n",
       "      <td>2004</td>\n",
       "      <td>Auto Canal Petit</td>\n",
       "      <td>France</td>\n",
       "      <td>4708.44</td>\n",
       "      <td>Medium</td>\n",
       "    </tr>\n",
       "    <tr>\n",
       "      <th>10</th>\n",
       "      <td>1</td>\n",
       "      <td>2</td>\n",
       "      <td>2004</td>\n",
       "      <td>Australian Collectors, Co.</td>\n",
       "      <td>Australia</td>\n",
       "      <td>3965.66</td>\n",
       "      <td>Medium</td>\n",
       "    </tr>\n",
       "    <tr>\n",
       "      <th>36</th>\n",
       "      <td>1</td>\n",
       "      <td>1</td>\n",
       "      <td>2004</td>\n",
       "      <td>West Coast Collectables Co.</td>\n",
       "      <td>USA</td>\n",
       "      <td>6075.30</td>\n",
       "      <td>Medium</td>\n",
       "    </tr>\n",
       "    <tr>\n",
       "      <th>37</th>\n",
       "      <td>1</td>\n",
       "      <td>3</td>\n",
       "      <td>2004</td>\n",
       "      <td>Cambridge Collectables Co.</td>\n",
       "      <td>USA</td>\n",
       "      <td>6463.23</td>\n",
       "      <td>Medium</td>\n",
       "    </tr>\n",
       "    <tr>\n",
       "      <th>63</th>\n",
       "      <td>1</td>\n",
       "      <td>1</td>\n",
       "      <td>2004</td>\n",
       "      <td>Osaka Souveniers Co.</td>\n",
       "      <td>Japan</td>\n",
       "      <td>3009.09</td>\n",
       "      <td>Medium</td>\n",
       "    </tr>\n",
       "  </tbody>\n",
       "</table>\n",
       "</div>"
      ],
      "text/plain": [
       "    QTR_ID  MONTH_ID  YEAR_ID                 CUSTOMERNAME    COUNTRY  \\\n",
       "9        1         1     2004             Auto Canal Petit     France   \n",
       "10       1         2     2004   Australian Collectors, Co.  Australia   \n",
       "36       1         1     2004  West Coast Collectables Co.        USA   \n",
       "37       1         3     2004   Cambridge Collectables Co.        USA   \n",
       "63       1         1     2004         Osaka Souveniers Co.      Japan   \n",
       "\n",
       "      SALES DEALSIZE  \n",
       "9   4708.44   Medium  \n",
       "10  3965.66   Medium  \n",
       "36  6075.30   Medium  \n",
       "37  6463.23   Medium  \n",
       "63  3009.09   Medium  "
      ]
     },
     "execution_count": 103,
     "metadata": {},
     "output_type": "execute_result"
    }
   ],
   "source": [
    "Qtr_2004[0].head()"
   ]
  },
  {
   "cell_type": "code",
   "execution_count": 104,
   "id": "0904d69e",
   "metadata": {},
   "outputs": [
    {
     "data": {
      "text/html": [
       "<div>\n",
       "<style scoped>\n",
       "    .dataframe tbody tr th:only-of-type {\n",
       "        vertical-align: middle;\n",
       "    }\n",
       "\n",
       "    .dataframe tbody tr th {\n",
       "        vertical-align: top;\n",
       "    }\n",
       "\n",
       "    .dataframe thead th {\n",
       "        text-align: right;\n",
       "    }\n",
       "</style>\n",
       "<table border=\"1\" class=\"dataframe\">\n",
       "  <thead>\n",
       "    <tr style=\"text-align: right;\">\n",
       "      <th></th>\n",
       "      <th>QTR_ID</th>\n",
       "      <th>MONTH_ID</th>\n",
       "      <th>YEAR_ID</th>\n",
       "      <th>SALES</th>\n",
       "    </tr>\n",
       "  </thead>\n",
       "  <tbody>\n",
       "    <tr>\n",
       "      <th>count</th>\n",
       "      <td>233.0</td>\n",
       "      <td>233.000000</td>\n",
       "      <td>233.0</td>\n",
       "      <td>233.000000</td>\n",
       "    </tr>\n",
       "    <tr>\n",
       "      <th>mean</th>\n",
       "      <td>1.0</td>\n",
       "      <td>1.849785</td>\n",
       "      <td>2004.0</td>\n",
       "      <td>3578.243262</td>\n",
       "    </tr>\n",
       "    <tr>\n",
       "      <th>std</th>\n",
       "      <td>0.0</td>\n",
       "      <td>0.781639</td>\n",
       "      <td>0.0</td>\n",
       "      <td>1788.639233</td>\n",
       "    </tr>\n",
       "    <tr>\n",
       "      <th>min</th>\n",
       "      <td>1.0</td>\n",
       "      <td>1.000000</td>\n",
       "      <td>2004.0</td>\n",
       "      <td>683.800000</td>\n",
       "    </tr>\n",
       "    <tr>\n",
       "      <th>25%</th>\n",
       "      <td>1.0</td>\n",
       "      <td>1.000000</td>\n",
       "      <td>2004.0</td>\n",
       "      <td>2244.900000</td>\n",
       "    </tr>\n",
       "    <tr>\n",
       "      <th>50%</th>\n",
       "      <td>1.0</td>\n",
       "      <td>2.000000</td>\n",
       "      <td>2004.0</td>\n",
       "      <td>3184.800000</td>\n",
       "    </tr>\n",
       "    <tr>\n",
       "      <th>75%</th>\n",
       "      <td>1.0</td>\n",
       "      <td>2.000000</td>\n",
       "      <td>2004.0</td>\n",
       "      <td>4555.920000</td>\n",
       "    </tr>\n",
       "    <tr>\n",
       "      <th>max</th>\n",
       "      <td>1.0</td>\n",
       "      <td>3.000000</td>\n",
       "      <td>2004.0</td>\n",
       "      <td>9774.030000</td>\n",
       "    </tr>\n",
       "  </tbody>\n",
       "</table>\n",
       "</div>"
      ],
      "text/plain": [
       "       QTR_ID    MONTH_ID  YEAR_ID        SALES\n",
       "count   233.0  233.000000    233.0   233.000000\n",
       "mean      1.0    1.849785   2004.0  3578.243262\n",
       "std       0.0    0.781639      0.0  1788.639233\n",
       "min       1.0    1.000000   2004.0   683.800000\n",
       "25%       1.0    1.000000   2004.0  2244.900000\n",
       "50%       1.0    2.000000   2004.0  3184.800000\n",
       "75%       1.0    2.000000   2004.0  4555.920000\n",
       "max       1.0    3.000000   2004.0  9774.030000"
      ]
     },
     "execution_count": 104,
     "metadata": {},
     "output_type": "execute_result"
    }
   ],
   "source": [
    "Qtr_2004[0].describe()"
   ]
  },
  {
   "cell_type": "markdown",
   "id": "8cb8ef1d",
   "metadata": {},
   "source": [
    "**Profitability and Repeatability Data of Quarters of 2004**"
   ]
  },
  {
   "cell_type": "code",
   "execution_count": 105,
   "id": "2db7f611",
   "metadata": {},
   "outputs": [],
   "source": [
    "PR_Qtr_2004 = []\n",
    "for qtr in Qtr_2004 : PR_Qtr_2004.append([Profit(qtr), Repeatability(qtr)])"
   ]
  },
  {
   "cell_type": "code",
   "execution_count": 106,
   "id": "c92b40b2",
   "metadata": {},
   "outputs": [
    {
     "data": {
      "text/html": [
       "<div>\n",
       "<style scoped>\n",
       "    .dataframe tbody tr th:only-of-type {\n",
       "        vertical-align: middle;\n",
       "    }\n",
       "\n",
       "    .dataframe tbody tr th {\n",
       "        vertical-align: top;\n",
       "    }\n",
       "\n",
       "    .dataframe thead th {\n",
       "        text-align: right;\n",
       "    }\n",
       "</style>\n",
       "<table border=\"1\" class=\"dataframe\">\n",
       "  <thead>\n",
       "    <tr style=\"text-align: right;\">\n",
       "      <th></th>\n",
       "      <th>Customer</th>\n",
       "      <th>Average Deal Size</th>\n",
       "    </tr>\n",
       "  </thead>\n",
       "  <tbody>\n",
       "    <tr>\n",
       "      <th>12</th>\n",
       "      <td>CAF Imports</td>\n",
       "      <td>7665.350000</td>\n",
       "    </tr>\n",
       "    <tr>\n",
       "      <th>13</th>\n",
       "      <td>Auto Assoc. &amp; Cie.</td>\n",
       "      <td>5759.420000</td>\n",
       "    </tr>\n",
       "    <tr>\n",
       "      <th>15</th>\n",
       "      <td>Blauer See Auto, Co.</td>\n",
       "      <td>4658.311250</td>\n",
       "    </tr>\n",
       "    <tr>\n",
       "      <th>11</th>\n",
       "      <td>Clover Collections, Co.</td>\n",
       "      <td>4309.385556</td>\n",
       "    </tr>\n",
       "    <tr>\n",
       "      <th>16</th>\n",
       "      <td>Euro Shopping Channel</td>\n",
       "      <td>4072.823125</td>\n",
       "    </tr>\n",
       "  </tbody>\n",
       "</table>\n",
       "</div>"
      ],
      "text/plain": [
       "                   Customer  Average Deal Size\n",
       "12              CAF Imports        7665.350000\n",
       "13       Auto Assoc. & Cie.        5759.420000\n",
       "15     Blauer See Auto, Co.        4658.311250\n",
       "11  Clover Collections, Co.        4309.385556\n",
       "16    Euro Shopping Channel        4072.823125"
      ]
     },
     "execution_count": 106,
     "metadata": {},
     "output_type": "execute_result"
    }
   ],
   "source": [
    "PR_Qtr_2004[0][0].head()"
   ]
  },
  {
   "cell_type": "code",
   "execution_count": 107,
   "id": "4370edb5",
   "metadata": {},
   "outputs": [
    {
     "data": {
      "text/html": [
       "<div>\n",
       "<style scoped>\n",
       "    .dataframe tbody tr th:only-of-type {\n",
       "        vertical-align: middle;\n",
       "    }\n",
       "\n",
       "    .dataframe tbody tr th {\n",
       "        vertical-align: top;\n",
       "    }\n",
       "\n",
       "    .dataframe thead th {\n",
       "        text-align: right;\n",
       "    }\n",
       "</style>\n",
       "<table border=\"1\" class=\"dataframe\">\n",
       "  <thead>\n",
       "    <tr style=\"text-align: right;\">\n",
       "      <th></th>\n",
       "      <th>Average Deal Size</th>\n",
       "    </tr>\n",
       "  </thead>\n",
       "  <tbody>\n",
       "    <tr>\n",
       "      <th>count</th>\n",
       "      <td>23.000000</td>\n",
       "    </tr>\n",
       "    <tr>\n",
       "      <th>mean</th>\n",
       "      <td>3817.904864</td>\n",
       "    </tr>\n",
       "    <tr>\n",
       "      <th>std</th>\n",
       "      <td>1052.407221</td>\n",
       "    </tr>\n",
       "    <tr>\n",
       "      <th>min</th>\n",
       "      <td>2825.740000</td>\n",
       "    </tr>\n",
       "    <tr>\n",
       "      <th>25%</th>\n",
       "      <td>3363.178333</td>\n",
       "    </tr>\n",
       "    <tr>\n",
       "      <th>50%</th>\n",
       "      <td>3499.569200</td>\n",
       "    </tr>\n",
       "    <tr>\n",
       "      <th>75%</th>\n",
       "      <td>3907.314000</td>\n",
       "    </tr>\n",
       "    <tr>\n",
       "      <th>max</th>\n",
       "      <td>7665.350000</td>\n",
       "    </tr>\n",
       "  </tbody>\n",
       "</table>\n",
       "</div>"
      ],
      "text/plain": [
       "       Average Deal Size\n",
       "count          23.000000\n",
       "mean         3817.904864\n",
       "std          1052.407221\n",
       "min          2825.740000\n",
       "25%          3363.178333\n",
       "50%          3499.569200\n",
       "75%          3907.314000\n",
       "max          7665.350000"
      ]
     },
     "execution_count": 107,
     "metadata": {},
     "output_type": "execute_result"
    }
   ],
   "source": [
    "PR_Qtr_2004[0][0].describe()"
   ]
  },
  {
   "cell_type": "markdown",
   "id": "30854a0a",
   "metadata": {},
   "source": [
    "**Quadrants Data of Quarters of 2004**"
   ]
  },
  {
   "cell_type": "code",
   "execution_count": 108,
   "id": "5af23146",
   "metadata": {},
   "outputs": [],
   "source": [
    "Data_Qtr_2004 = []\n",
    "d = ['Premium', 'Profit Low and Repeat High', 'Profit High and Repeat Low', 'Critical']\n",
    "for i in range(4) :\n",
    "    k = []\n",
    "    for item in d :\n",
    "        k.append(CBFramework(Qtr_2004[i], PR_Qtr_2004[i][0], PR_Qtr_2004[i][1], item, 'Average Deal Size'))\n",
    "    Data_Qtr_2004.append(k)"
   ]
  },
  {
   "cell_type": "code",
   "execution_count": 109,
   "id": "2e8de816",
   "metadata": {},
   "outputs": [
    {
     "data": {
      "text/html": [
       "<div>\n",
       "<style scoped>\n",
       "    .dataframe tbody tr th:only-of-type {\n",
       "        vertical-align: middle;\n",
       "    }\n",
       "\n",
       "    .dataframe tbody tr th {\n",
       "        vertical-align: top;\n",
       "    }\n",
       "\n",
       "    .dataframe thead th {\n",
       "        text-align: right;\n",
       "    }\n",
       "</style>\n",
       "<table border=\"1\" class=\"dataframe\">\n",
       "  <thead>\n",
       "    <tr style=\"text-align: right;\">\n",
       "      <th></th>\n",
       "      <th>Customer</th>\n",
       "      <th>Repeatability</th>\n",
       "      <th>Average Deal Size</th>\n",
       "    </tr>\n",
       "  </thead>\n",
       "  <tbody>\n",
       "    <tr>\n",
       "      <th>0</th>\n",
       "      <td>Vida Sport, Ltd</td>\n",
       "      <td>14</td>\n",
       "      <td>3602.325000</td>\n",
       "    </tr>\n",
       "    <tr>\n",
       "      <th>1</th>\n",
       "      <td>Euro Shopping Channel</td>\n",
       "      <td>16</td>\n",
       "      <td>4072.823125</td>\n",
       "    </tr>\n",
       "  </tbody>\n",
       "</table>\n",
       "</div>"
      ],
      "text/plain": [
       "                Customer  Repeatability  Average Deal Size\n",
       "0        Vida Sport, Ltd             14        3602.325000\n",
       "1  Euro Shopping Channel             16        4072.823125"
      ]
     },
     "execution_count": 109,
     "metadata": {},
     "output_type": "execute_result"
    }
   ],
   "source": [
    "Data_Qtr_2004[0][0]"
   ]
  },
  {
   "cell_type": "markdown",
   "id": "009ec739",
   "metadata": {},
   "source": [
    "**Comparison of number of premium customers and other customers**"
   ]
  },
  {
   "cell_type": "code",
   "execution_count": 110,
   "id": "44f2327b",
   "metadata": {},
   "outputs": [],
   "source": [
    "Q_2004 = []\n",
    "for i in range(4) :\n",
    "    a = []\n",
    "    for j in range(4) :\n",
    "        a.append(Data_Qtr_2004[i][j][\"Customer\"].count())\n",
    "    Q_2004.append(a)"
   ]
  },
  {
   "cell_type": "code",
   "execution_count": 111,
   "id": "50121bab",
   "metadata": {},
   "outputs": [],
   "source": [
    "PremiumCount_2004 = []\n",
    "for i in range(4) : \n",
    "    PremiumCount_2004.append(Q_2004[i][0])"
   ]
  },
  {
   "cell_type": "code",
   "execution_count": 112,
   "id": "9f4a3a4e",
   "metadata": {},
   "outputs": [
    {
     "data": {
      "text/plain": [
       "[2, 4, 10, 10]"
      ]
     },
     "execution_count": 112,
     "metadata": {},
     "output_type": "execute_result"
    }
   ],
   "source": [
    "PremiumCount_2004"
   ]
  },
  {
   "cell_type": "code",
   "execution_count": 113,
   "id": "4640a60c",
   "metadata": {},
   "outputs": [],
   "source": [
    "OthersCount_2004 = []\n",
    "for i in range(4) :\n",
    "    s=0\n",
    "    for j in range(1,4) :\n",
    "        s = s + Q_2004[i][j]\n",
    "    OthersCount_2004.append(s)"
   ]
  },
  {
   "cell_type": "code",
   "execution_count": 114,
   "id": "89973b99",
   "metadata": {},
   "outputs": [
    {
     "data": {
      "text/plain": [
       "[21, 19, 20, 36]"
      ]
     },
     "execution_count": 114,
     "metadata": {},
     "output_type": "execute_result"
    }
   ],
   "source": [
    "OthersCount_2004"
   ]
  },
  {
   "cell_type": "markdown",
   "id": "1fe2a3ed",
   "metadata": {},
   "source": [
    "**Visualisation of Quarter analysis of 2004**"
   ]
  },
  {
   "cell_type": "markdown",
   "id": "76e3fe29",
   "metadata": {},
   "source": [
    "a. Quadrant shares of quarters of 2004"
   ]
  },
  {
   "cell_type": "code",
   "execution_count": 115,
   "id": "398af2d1",
   "metadata": {},
   "outputs": [
    {
     "data": {
      "image/png": "[encoded data removed]",
      "text/plain": [
       "<Figure size 432x288 with 1 Axes>"
      ]
     },
     "metadata": {
      "needs_background": "light"
     },
     "output_type": "display_data"
    },
    {
     "data": {
      "image/png": "[encoded data removed]",
      "text/plain": [
       "<Figure size 288x288 with 1 Axes>"
      ]
     },
     "metadata": {},
     "output_type": "display_data"
    },
    {
     "data": {
      "image/png": "[encoded data removed]",
      "text/plain": [
       "<Figure size 432x288 with 1 Axes>"
      ]
     },
     "metadata": {
      "needs_background": "light"
     },
     "output_type": "display_data"
    },
    {
     "data": {
      "image/png": "[encoded data removed]",
      "text/plain": [
       "<Figure size 288x288 with 1 Axes>"
      ]
     },
     "metadata": {},
     "output_type": "display_data"
    },
    {
     "data": {
      "image/png": "[encoded data removed]",
      "text/plain": [
       "<Figure size 432x288 with 1 Axes>"
      ]
     },
     "metadata": {
      "needs_background": "light"
     },
     "output_type": "display_data"
    },
    {
     "data": {
      "image/png": "[encoded data removed]",
      "text/plain": [
       "<Figure size 288x288 with 1 Axes>"
      ]
     },
     "metadata": {},
     "output_type": "display_data"
    },
    {
     "data": {
      "image/png": "[encoded data removed]",
      "text/plain": [
       "<Figure size 432x288 with 1 Axes>"
      ]
     },
     "metadata": {
      "needs_background": "light"
     },
     "output_type": "display_data"
    },
    {
     "data": {
      "image/png": "[encoded data removed]",
      "text/plain": [
       "<Figure size 288x288 with 1 Axes>"
      ]
     },
     "metadata": {},
     "output_type": "display_data"
    }
   ],
   "source": [
    "for i in range(4) :\n",
    "    plt.subplot(4,1,i+1)\n",
    "    a = []\n",
    "    for j in range(4) :\n",
    "        a.append(Data_Qtr_2004[i][j][\"Customer\"].count())\n",
    "\n",
    "    plt.title(\"Q\"+str(i+1))\n",
    "    plt.figure(figsize = (4,4))\n",
    "    plt.pie(np.array(a), labels = ['Premium', 'PLowRHigh', 'PHighRLow', 'Critical'], autopct='%1.1f%%')\n",
    "    plt.show()"
   ]
  },
  {
   "cell_type": "markdown",
   "id": "eb8253dc",
   "metadata": {},
   "source": [
    "b. Quadrants b. Number of Customers in each of the quadrant of 2004"
   ]
  },
  {
   "cell_type": "code",
   "execution_count": 116,
   "id": "539e6167",
   "metadata": {},
   "outputs": [
    {
     "data": {
      "image/png": "[encoded data removed]",
      "text/plain": [
       "<Figure size 432x288 with 1 Axes>"
      ]
     },
     "metadata": {
      "needs_background": "light"
     },
     "output_type": "display_data"
    }
   ],
   "source": [
    "xaxis = ['Premium', 'PLowRHigh', 'PHighRLow', 'Critical']\n",
    "x=np.array([2,4,6,8])\n",
    "plt.title(\"Quadrants data of 2004\")    \n",
    "plt.xlabel(\"Type\")\n",
    "plt.ylabel(\"Number of Customers\")\n",
    "width = 0.8\n",
    "plt.bar(x-0.6, Q_2004[0], width=0.4)\n",
    "plt.bar(x-0.2, Q_2004[1], width=0.4)\n",
    "plt.bar(x+0.2, Q_2004[2], width=0.4)\n",
    "plt.bar(x+0.6, Q_2004[3], width=0.4)\n",
    "plt.xticks(x, xaxis)\n",
    "plt.legend([\"Q1\", \"Q2\", \"Q3\", \"Q4\"])\n",
    "plt.grid(True)\n",
    "plt.show()"
   ]
  },
  {
   "cell_type": "markdown",
   "id": "4a5184a9",
   "metadata": {},
   "source": [
    "c. Premium VS Others of 2004"
   ]
  },
  {
   "cell_type": "code",
   "execution_count": 117,
   "id": "ca413a69",
   "metadata": {},
   "outputs": [
    {
     "data": {
      "image/png": "[encoded data removed]",
      "text/plain": [
       "<Figure size 432x288 with 1 Axes>"
      ]
     },
     "metadata": {
      "needs_background": "light"
     },
     "output_type": "display_data"
    }
   ],
   "source": [
    "x = np.arange(4)\n",
    "plt.title(\"Premium VS Others 2004\")\n",
    "plt.xlabel(\"Quarters\")\n",
    "plt.ylabel(\"Number of Customers\")\n",
    "width = 0.4\n",
    "plt.bar(x-0.2, PremiumCount_2004, width)\n",
    "plt.bar(x+0.2, OthersCount_2004, width)\n",
    "plt.xticks(x, [\"Q1\", \"Q2\", \"Q3\", \"Q4\"])\n",
    "plt.legend([\"Premium\", \"Others\"])\n",
    "plt.grid(True)\n",
    "plt.show()"
   ]
  },
  {
   "cell_type": "code",
   "execution_count": 118,
   "id": "64d2473d",
   "metadata": {},
   "outputs": [
    {
     "data": {
      "image/png": "[encoded data removed]",
      "text/plain": [
       "<Figure size 432x288 with 1 Axes>"
      ]
     },
     "metadata": {
      "needs_background": "light"
     },
     "output_type": "display_data"
    },
    {
     "data": {
      "image/png": "[encoded data removed]",
      "text/plain": [
       "<Figure size 288x288 with 1 Axes>"
      ]
     },
     "metadata": {},
     "output_type": "display_data"
    },
    {
     "data": {
      "image/png": "[encoded data removed]",
      "text/plain": [
       "<Figure size 432x288 with 1 Axes>"
      ]
     },
     "metadata": {
      "needs_background": "light"
     },
     "output_type": "display_data"
    },
    {
     "data": {
      "image/png": "[encoded data removed]",
      "text/plain": [
       "<Figure size 288x288 with 1 Axes>"
      ]
     },
     "metadata": {},
     "output_type": "display_data"
    },
    {
     "data": {
      "image/png": "[encoded data removed]",
      "text/plain": [
       "<Figure size 432x288 with 1 Axes>"
      ]
     },
     "metadata": {
      "needs_background": "light"
     },
     "output_type": "display_data"
    },
    {
     "data": {
      "image/png": "[encoded data removed]",
      "text/plain": [
       "<Figure size 288x288 with 1 Axes>"
      ]
     },
     "metadata": {},
     "output_type": "display_data"
    },
    {
     "data": {
      "image/png": "[encoded data removed]",
      "text/plain": [
       "<Figure size 432x288 with 1 Axes>"
      ]
     },
     "metadata": {
      "needs_background": "light"
     },
     "output_type": "display_data"
    },
    {
     "data": {
      "image/png": "[encoded data removed]",
      "text/plain": [
       "<Figure size 288x288 with 1 Axes>"
      ]
     },
     "metadata": {},
     "output_type": "display_data"
    }
   ],
   "source": [
    "for i in range(4) :\n",
    "    plt.subplot(4,1,i+1)\n",
    "    plt.figure(figsize = (4,4))\n",
    "    plt.title(\"Q\"+str(i+1))\n",
    "    plt.pie(np.array([PremiumCount_2004[i], OthersCount_2004[i]]), labels = [\"Premium\", \"Others\"], autopct='%1.1f%%')\n",
    "    plt.show()"
   ]
  }
 ],
 "metadata": {
  "kernelspec": {
   "display_name": "Python 3",
   "language": "python",
   "name": "python3"
  },
  "language_info": {
   "codemirror_mode": {
    "name": "ipython",
    "version": 3
   },
   "file_extension": ".py",
   "mimetype": "text/x-python",
   "name": "python",
   "nbconvert_exporter": "python",
   "pygments_lexer": "ipython3",
   "version": "3.8.8"
  }
 },
 "nbformat": 4,
 "nbformat_minor": 5
}
